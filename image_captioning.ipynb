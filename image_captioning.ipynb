{
  "nbformat": 4,
  "nbformat_minor": 0,
  "metadata": {
    "colab": {
      "name": "image-captioning.ipynb",
      "provenance": [],
      "collapsed_sections": [
        "yQQM24rOv2Wc"
      ],
      "toc_visible": true
    },
    "kernelspec": {
      "name": "python3",
      "display_name": "Python 3"
    },
    "accelerator": "GPU"
  },
  "cells": [
    {
      "cell_type": "markdown",
      "metadata": {
        "id": "U-xRY9w4JWCn",
        "colab_type": "text"
      },
      "source": [
        "# Image Captioning - generating captions for images\n",
        "\n",
        "\n"
      ]
    },
    {
      "cell_type": "markdown",
      "metadata": {
        "id": "4SSYVr3p3WTj",
        "colab_type": "text"
      },
      "source": [
        "### Steps\n",
        "  - Data Collection\n",
        "  - Understanding the data\n",
        "  - Data Cleaning\n",
        "  - Loading the training set\n",
        "  - Data Preprocessing - Images\n",
        "  - Data Preprocessing - Captions\n",
        "  - Data Preparation using generator function\n",
        "  - Word Embeddings \n",
        "  - Model Architecture\n",
        "  - Inference\n",
        "  - Evaluation"
      ]
    },
    {
      "cell_type": "code",
      "metadata": {
        "id": "n7tADnlrG6DM",
        "colab_type": "code",
        "outputId": "c524f8ff-f3e8-4124-d917-90a68338eca0",
        "colab": {
          "base_uri": "https://localhost:8080/",
          "height": 34
        }
      },
      "source": [
        "from google.colab import drive\n",
        "drive.mount('/content/drive', force_remount=True)"
      ],
      "execution_count": 134,
      "outputs": [
        {
          "output_type": "stream",
          "text": [
            "Mounted at /content/drive\n"
          ],
          "name": "stdout"
        }
      ]
    },
    {
      "cell_type": "code",
      "metadata": {
        "id": "MT6U1on9HRWk",
        "colab_type": "code",
        "colab": {}
      },
      "source": [
        "# !unzip drive/My\\ Drive/flickr-image-dataset"
      ],
      "execution_count": 0,
      "outputs": []
    },
    {
      "cell_type": "code",
      "metadata": {
        "id": "oriRRwO1OURO",
        "colab_type": "code",
        "colab": {}
      },
      "source": [
        "import warnings\n",
        "warnings.filterwarnings('ignore')"
      ],
      "execution_count": 0,
      "outputs": []
    },
    {
      "cell_type": "code",
      "metadata": {
        "id": "bvxh_7RlL7tJ",
        "colab_type": "code",
        "colab": {}
      },
      "source": [
        "import shutil\n",
        "import os\n",
        "import json"
      ],
      "execution_count": 0,
      "outputs": []
    },
    {
      "cell_type": "code",
      "metadata": {
        "id": "seS9jDqQIoRF",
        "colab_type": "code",
        "outputId": "8f003efc-df8d-4120-a7dd-8b35b71382b9",
        "colab": {
          "base_uri": "https://localhost:8080/",
          "height": 34
        }
      },
      "source": [
        "import numpy as np\n",
        "import pandas as pd\n",
        "import cv2\n",
        "import matplotlib.pyplot as plt\n",
        "import keras"
      ],
      "execution_count": 6,
      "outputs": [
        {
          "output_type": "stream",
          "text": [
            "Using TensorFlow backend.\n"
          ],
          "name": "stderr"
        }
      ]
    },
    {
      "cell_type": "code",
      "metadata": {
        "id": "sAjt6md34k7o",
        "colab_type": "code",
        "colab": {}
      },
      "source": [
        "# shutil.rmtree('flickr30k_images//')"
      ],
      "execution_count": 0,
      "outputs": []
    },
    {
      "cell_type": "markdown",
      "metadata": {
        "id": "0h0XOo90C4mQ",
        "colab_type": "text"
      },
      "source": [
        "## 1. Data Pipeline"
      ]
    },
    {
      "cell_type": "markdown",
      "metadata": {
        "id": "COPZM7-HwTSy",
        "colab_type": "text"
      },
      "source": [
        "#### 1.0.1 directory stucture for training\n",
        "flickr30k\n",
        "  - images\n",
        "    - train\n",
        "    - val\n",
        "  - captions\n",
        "    - train\n",
        "    - val"
      ]
    },
    {
      "cell_type": "code",
      "metadata": {
        "id": "FcqLgVw4v52_",
        "colab_type": "code",
        "colab": {}
      },
      "source": [
        "# parent directory\n",
        "if not os.path.isdir('flickr30k'):\n",
        "  os.mkdir('flickr30k')"
      ],
      "execution_count": 0,
      "outputs": []
    },
    {
      "cell_type": "code",
      "metadata": {
        "id": "yMmYerg6Ap9n",
        "colab_type": "code",
        "colab": {}
      },
      "source": [
        "# subdirecotry for images and captions\n",
        "if not os.path.isdir('flickr30k/images'):\n",
        "  os.mkdir('flickr30k/images')\n",
        "if not os.path.isdir('flickr30k/captions'):\n",
        "  os.mkdir('flickr30k/captions')"
      ],
      "execution_count": 0,
      "outputs": []
    },
    {
      "cell_type": "code",
      "metadata": {
        "id": "mZpQFo2DApxW",
        "colab_type": "code",
        "colab": {}
      },
      "source": [
        "# training and validation subdirectories\n",
        "if not os.path.isdir('flickr30k/images/train'):\n",
        "  os.mkdir('flickr30k/images/train')\n",
        "if not os.path.isdir('flickr30k/images/val'):\n",
        "  os.mkdir('flickr30k/images/val')\n",
        "if not os.path.isdir('flickr30k/captions/train'):\n",
        "  os.mkdir('flickr30k/captions/train')\n",
        "if not os.path.isdir('flickr30k/captions/val'):\n",
        "  os.mkdir('flickr30k/captions/val')"
      ],
      "execution_count": 0,
      "outputs": []
    },
    {
      "cell_type": "code",
      "metadata": {
        "id": "6xaPvO57AplL",
        "colab_type": "code",
        "colab": {}
      },
      "source": [
        "total_images = len(os.listdir('flickr30k_images/flickr30k_images/'))"
      ],
      "execution_count": 0,
      "outputs": []
    },
    {
      "cell_type": "code",
      "metadata": {
        "id": "kxtfoAn9B5ZV",
        "colab_type": "code",
        "colab": {}
      },
      "source": [
        "# 31K images for training and 783 for validation"
      ],
      "execution_count": 0,
      "outputs": []
    },
    {
      "cell_type": "code",
      "metadata": {
        "id": "7NUBBm8iJm43",
        "colab_type": "code",
        "colab": {}
      },
      "source": [
        "captions = pd.read_csv('flickr30k_images/results.csv', sep='delimiter', header=None)"
      ],
      "execution_count": 0,
      "outputs": []
    },
    {
      "cell_type": "code",
      "metadata": {
        "id": "0a5MyILuJzUB",
        "colab_type": "code",
        "outputId": "08bb73cf-882f-4df3-867f-e72e8a64cd26",
        "colab": {
          "base_uri": "https://localhost:8080/",
          "height": 206
        }
      },
      "source": [
        "captions.head()"
      ],
      "execution_count": 14,
      "outputs": [
        {
          "output_type": "execute_result",
          "data": {
            "text/html": [
              "<div>\n",
              "<style scoped>\n",
              "    .dataframe tbody tr th:only-of-type {\n",
              "        vertical-align: middle;\n",
              "    }\n",
              "\n",
              "    .dataframe tbody tr th {\n",
              "        vertical-align: top;\n",
              "    }\n",
              "\n",
              "    .dataframe thead th {\n",
              "        text-align: right;\n",
              "    }\n",
              "</style>\n",
              "<table border=\"1\" class=\"dataframe\">\n",
              "  <thead>\n",
              "    <tr style=\"text-align: right;\">\n",
              "      <th></th>\n",
              "      <th>0</th>\n",
              "    </tr>\n",
              "  </thead>\n",
              "  <tbody>\n",
              "    <tr>\n",
              "      <th>0</th>\n",
              "      <td>image_name| comment_number| comment</td>\n",
              "    </tr>\n",
              "    <tr>\n",
              "      <th>1</th>\n",
              "      <td>1000092795.jpg| 0| Two young guys with shaggy ...</td>\n",
              "    </tr>\n",
              "    <tr>\n",
              "      <th>2</th>\n",
              "      <td>1000092795.jpg| 1| Two young , White males are...</td>\n",
              "    </tr>\n",
              "    <tr>\n",
              "      <th>3</th>\n",
              "      <td>1000092795.jpg| 2| Two men in green shirts are...</td>\n",
              "    </tr>\n",
              "    <tr>\n",
              "      <th>4</th>\n",
              "      <td>1000092795.jpg| 3| A man in a blue shirt stand...</td>\n",
              "    </tr>\n",
              "  </tbody>\n",
              "</table>\n",
              "</div>"
            ],
            "text/plain": [
              "                                                   0\n",
              "0                image_name| comment_number| comment\n",
              "1  1000092795.jpg| 0| Two young guys with shaggy ...\n",
              "2  1000092795.jpg| 1| Two young , White males are...\n",
              "3  1000092795.jpg| 2| Two men in green shirts are...\n",
              "4  1000092795.jpg| 3| A man in a blue shirt stand..."
            ]
          },
          "metadata": {
            "tags": []
          },
          "execution_count": 14
        }
      ]
    },
    {
      "cell_type": "code",
      "metadata": {
        "id": "WdL_rYzPUMiL",
        "colab_type": "code",
        "colab": {}
      },
      "source": [
        "captions = captions.values[1:]"
      ],
      "execution_count": 0,
      "outputs": []
    },
    {
      "cell_type": "code",
      "metadata": {
        "id": "PZIQqg38UMbX",
        "colab_type": "code",
        "outputId": "fffaf85c-22c5-44b6-b8f3-4ce6db2eba1b",
        "colab": {
          "base_uri": "https://localhost:8080/",
          "height": 34
        }
      },
      "source": [
        "captions.shape"
      ],
      "execution_count": 16,
      "outputs": [
        {
          "output_type": "execute_result",
          "data": {
            "text/plain": [
              "(158915, 1)"
            ]
          },
          "metadata": {
            "tags": []
          },
          "execution_count": 16
        }
      ]
    },
    {
      "cell_type": "code",
      "metadata": {
        "id": "h0FwGm1yUMTk",
        "colab_type": "code",
        "outputId": "7a655521-7eb4-425e-8d11-4a67cadbbdd6",
        "colab": {
          "base_uri": "https://localhost:8080/",
          "height": 34
        }
      },
      "source": [
        "total_images"
      ],
      "execution_count": 17,
      "outputs": [
        {
          "output_type": "execute_result",
          "data": {
            "text/plain": [
              "31783"
            ]
          },
          "metadata": {
            "tags": []
          },
          "execution_count": 17
        }
      ]
    },
    {
      "cell_type": "code",
      "metadata": {
        "id": "LevLorUbUMLR",
        "colab_type": "code",
        "outputId": "04f8a0e8-7f2d-4602-ca0a-a0319096f70b",
        "colab": {
          "base_uri": "https://localhost:8080/",
          "height": 34
        }
      },
      "source": [
        "31783*5"
      ],
      "execution_count": 18,
      "outputs": [
        {
          "output_type": "execute_result",
          "data": {
            "text/plain": [
              "158915"
            ]
          },
          "metadata": {
            "tags": []
          },
          "execution_count": 18
        }
      ]
    },
    {
      "cell_type": "code",
      "metadata": {
        "id": "uzFJVJaEUp_e",
        "colab_type": "code",
        "outputId": "5c1aeff2-dea8-478a-a069-a58f400580b1",
        "colab": {
          "base_uri": "https://localhost:8080/",
          "height": 69
        }
      },
      "source": [
        "captions[6][0].split('| ')"
      ],
      "execution_count": 23,
      "outputs": [
        {
          "output_type": "execute_result",
          "data": {
            "text/plain": [
              "['10002456.jpg',\n",
              " '1',\n",
              " 'Workers look down from up above on a piece of equipment .']"
            ]
          },
          "metadata": {
            "tags": []
          },
          "execution_count": 23
        }
      ]
    },
    {
      "cell_type": "code",
      "metadata": {
        "id": "jXMw3IlXaapZ",
        "colab_type": "code",
        "colab": {}
      },
      "source": [
        "parent_dir = 'flickr30k_images/flickr30k_images/'\n",
        "val_dir = 'flickr30k/images/val/'\n",
        "train_dir = 'flickr30k/images/train/'"
      ],
      "execution_count": 0,
      "outputs": []
    },
    {
      "cell_type": "code",
      "metadata": {
        "id": "JwBqHGnrUMA6",
        "colab_type": "code",
        "colab": {}
      },
      "source": [
        "validation_description = {}\n",
        "\n",
        "# validation seperation\n",
        "for val_i in range(0, 783*5, 5):\n",
        "  \n",
        "  img_name = ''\n",
        "  \n",
        "  # each image has five captions\n",
        "  for val_j in range(val_i, val_i + 5, 1):\n",
        "   \n",
        "    # split the description to get image_name and caption\n",
        "    desc = captions[val_j][0].split('| ')\n",
        "    img_name = desc[0] # img_name\n",
        "    caption = desc[-1] # 0th caption\n",
        "    \n",
        "    # enter the empty list initially\n",
        "    if validation_description.get(img_name) is None:\n",
        "      validation_description[img_name] = []\n",
        "      \n",
        "    validation_description[img_name].append(caption)\n",
        "  \n",
        "  \n",
        "  # move the img_name from here to val dir\n",
        "  src = os.path.join(parent_dir, img_name)\n",
        "  des = os.path.join(val_dir, img_name)\n",
        "  shutil.move(src, des)\n",
        "  "
      ],
      "execution_count": 0,
      "outputs": []
    },
    {
      "cell_type": "code",
      "metadata": {
        "id": "kO1tJAjEkBie",
        "colab_type": "code",
        "colab": {}
      },
      "source": [
        "# write val description into val dir\n",
        "with open('flickr30k/captions/val/validation_description.json', 'w') as fp:\n",
        "  json.dump(validation_description, fp)\n"
      ],
      "execution_count": 0,
      "outputs": []
    },
    {
      "cell_type": "code",
      "metadata": {
        "id": "5OCwNpeEDDL5",
        "colab_type": "code",
        "colab": {}
      },
      "source": [
        "# validation_description"
      ],
      "execution_count": 0,
      "outputs": []
    },
    {
      "cell_type": "code",
      "metadata": {
        "id": "VjNkxYPcj4tG",
        "colab_type": "code",
        "colab": {}
      },
      "source": [
        "training_description = {}\n",
        "\n",
        "# training seperation\n",
        "for train_i in range(783*5, len(captions), 5):\n",
        "  \n",
        "  img_name = ''\n",
        "  \n",
        "  # each image has five captions\n",
        "  for train_j in range(train_i, train_i + 5, 1):\n",
        "   \n",
        "    # split the description to get image_name and caption\n",
        "    desc = captions[train_j][0].split('| ')\n",
        "    img_name = desc[0] # img_name\n",
        "    caption = desc[-1] # 0th caption\n",
        "    \n",
        "    # enter the empty list initially\n",
        "    if training_description.get(img_name) is None:\n",
        "      training_description[img_name] = []\n",
        "      \n",
        "    training_description[img_name].append(caption)\n",
        "  \n",
        "  \n",
        "  # move the img_name from here to val dir\n",
        "  src = os.path.join(parent_dir, img_name)\n",
        "  des = os.path.join(train_dir, img_name)\n",
        "  shutil.move(src, des)"
      ],
      "execution_count": 0,
      "outputs": []
    },
    {
      "cell_type": "code",
      "metadata": {
        "id": "DQC9b3ish7nU",
        "colab_type": "code",
        "colab": {}
      },
      "source": [
        "# write train description into train dir\n",
        "\n",
        "with open('flickr30k/captions/train/training_description.json', 'w') as fp:\n",
        "  json.dump(training_description, fp)"
      ],
      "execution_count": 0,
      "outputs": []
    },
    {
      "cell_type": "code",
      "metadata": {
        "id": "8e_pwrRSbTqY",
        "colab_type": "code",
        "outputId": "ece6c956-d57a-4130-a5b2-6e3135586355",
        "colab": {
          "base_uri": "https://localhost:8080/",
          "height": 34
        }
      },
      "source": [
        "len(os.listdir('flickr30k/images/val/'))"
      ],
      "execution_count": 29,
      "outputs": [
        {
          "output_type": "execute_result",
          "data": {
            "text/plain": [
              "783"
            ]
          },
          "metadata": {
            "tags": []
          },
          "execution_count": 29
        }
      ]
    },
    {
      "cell_type": "code",
      "metadata": {
        "id": "jsRq0zqHmgAZ",
        "colab_type": "code",
        "outputId": "f1ade1ef-f680-448a-935d-2cf6695e8dfe",
        "colab": {
          "base_uri": "https://localhost:8080/",
          "height": 34
        }
      },
      "source": [
        "len(os.listdir('flickr30k/images/train/'))"
      ],
      "execution_count": 30,
      "outputs": [
        {
          "output_type": "execute_result",
          "data": {
            "text/plain": [
              "31000"
            ]
          },
          "metadata": {
            "tags": []
          },
          "execution_count": 30
        }
      ]
    },
    {
      "cell_type": "code",
      "metadata": {
        "id": "5XM3XGjTmpCE",
        "colab_type": "code",
        "outputId": "f88b4585-6cc2-498a-ff0a-40598ae2a4ed",
        "colab": {
          "base_uri": "https://localhost:8080/",
          "height": 34
        }
      },
      "source": [
        "len(validation_description)"
      ],
      "execution_count": 31,
      "outputs": [
        {
          "output_type": "execute_result",
          "data": {
            "text/plain": [
              "783"
            ]
          },
          "metadata": {
            "tags": []
          },
          "execution_count": 31
        }
      ]
    },
    {
      "cell_type": "code",
      "metadata": {
        "id": "X2sAldOAmozx",
        "colab_type": "code",
        "outputId": "41b012e9-f206-4b8c-b682-2b5d2751020c",
        "colab": {
          "base_uri": "https://localhost:8080/",
          "height": 34
        }
      },
      "source": [
        "len(training_description)"
      ],
      "execution_count": 32,
      "outputs": [
        {
          "output_type": "execute_result",
          "data": {
            "text/plain": [
              "31000"
            ]
          },
          "metadata": {
            "tags": []
          },
          "execution_count": 32
        }
      ]
    },
    {
      "cell_type": "code",
      "metadata": {
        "id": "RkCzUvjsmomm",
        "colab_type": "code",
        "colab": {}
      },
      "source": [
        ""
      ],
      "execution_count": 0,
      "outputs": []
    },
    {
      "cell_type": "code",
      "metadata": {
        "id": "J2ixgPkJCifT",
        "colab_type": "code",
        "colab": {}
      },
      "source": [
        "img = cv2.imread('flickr30k/images/val/1001545525.jpg')\n",
        "img = cv2.cvtColor(img, cv2.COLOR_BGR2RGB)"
      ],
      "execution_count": 0,
      "outputs": []
    },
    {
      "cell_type": "code",
      "metadata": {
        "id": "u8sW6YbFDLTN",
        "colab_type": "code",
        "outputId": "54c9e0e4-94a8-4527-cfe3-8e1e3ef6a4dc",
        "colab": {
          "base_uri": "https://localhost:8080/",
          "height": 206
        }
      },
      "source": [
        "plt.imshow(img);"
      ],
      "execution_count": 35,
      "outputs": [
        {
          "output_type": "display_data",
          "data": {
            "image/png": "[encoded data removed]",
            "text/plain": [
              "<Figure size 432x288 with 1 Axes>"
            ]
          },
          "metadata": {
            "tags": []
          }
        }
      ]
    },
    {
      "cell_type": "code",
      "metadata": {
        "id": "OvHevCWKCicG",
        "colab_type": "code",
        "outputId": "8d330208-3f7a-48b8-d795-43402712cb54",
        "colab": {
          "base_uri": "https://localhost:8080/",
          "height": 104
        }
      },
      "source": [
        "validation_description['1001545525.jpg']"
      ],
      "execution_count": 36,
      "outputs": [
        {
          "output_type": "execute_result",
          "data": {
            "text/plain": [
              "['Two men in Germany jumping over a rail at the same time without shirts .',\n",
              " 'Two youths are jumping over a roadside railing , at night .',\n",
              " 'Boys dancing on poles in the middle of the night .',\n",
              " 'Two men with no shirts jumping over a rail .',\n",
              " 'two guys jumping over a gate together']"
            ]
          },
          "metadata": {
            "tags": []
          },
          "execution_count": 36
        }
      ]
    },
    {
      "cell_type": "markdown",
      "metadata": {
        "id": "Jdfph6pfDxbM",
        "colab_type": "text"
      },
      "source": [
        "### 1.1 Text Data (Caption) Cleaning\n",
        "- No stop word removal\n",
        "- No stemming\n",
        "- lower case == upper case\n",
        "- remove numerical and special character \n",
        "- remove punctuation"
      ]
    },
    {
      "cell_type": "code",
      "metadata": {
        "id": "QjF9Om2jG-rO",
        "colab_type": "code",
        "colab": {}
      },
      "source": [
        "import re\n",
        "import collections\n",
        "import operator"
      ],
      "execution_count": 0,
      "outputs": []
    },
    {
      "cell_type": "code",
      "metadata": {
        "id": "0vat-bFtMVhm",
        "colab_type": "code",
        "colab": {}
      },
      "source": [
        "with open('flickr30k/captions/train/training_description.json', 'r') as train:\n",
        "  training_description = json.load(train)\n",
        "  \n",
        "with open('flickr30k/captions/val/validation_description.json', 'r') as val:\n",
        "  validation_description = json.load(val)"
      ],
      "execution_count": 0,
      "outputs": []
    },
    {
      "cell_type": "code",
      "metadata": {
        "id": "f1HOHZq9M96n",
        "colab_type": "code",
        "colab": {}
      },
      "source": [
        "t_archive = training_description\n",
        "v_archive = validation_description "
      ],
      "execution_count": 0,
      "outputs": []
    },
    {
      "cell_type": "code",
      "metadata": {
        "id": "9rrjdBlICiZD",
        "colab_type": "code",
        "colab": {}
      },
      "source": [
        "def clean_text(sentence):\n",
        "  \n",
        "  # convert into lower case\n",
        "  sentence = sentence.lower()\n",
        "  \n",
        "  # remove everything except a-z\n",
        "  sentence = re.sub(\"[^a-z]+\", \" \", sentence)\n",
        "  \n",
        "  sentence = sentence.split()\n",
        "  \n",
        "  #remove single char words ie: a\n",
        "  sentence = [word for word in sentence if len(word)>1 ]\n",
        "  \n",
        "  sentence = \" \".join(sentence)\n",
        "  \n",
        "  return sentence\n",
        "  \n",
        "  "
      ],
      "execution_count": 0,
      "outputs": []
    },
    {
      "cell_type": "code",
      "metadata": {
        "id": "FQ7EMPk0JpDT",
        "colab_type": "code",
        "colab": {}
      },
      "source": [
        "# clean validation description\n",
        "for img_name, captions in validation_description.items():\n",
        "  for i in range(len(captions)):\n",
        "    captions[i] = clean_text(captions[i])\n",
        "    "
      ],
      "execution_count": 0,
      "outputs": []
    },
    {
      "cell_type": "code",
      "metadata": {
        "id": "H7XVr38aCiUa",
        "colab_type": "code",
        "outputId": "e2442932-403d-4989-a753-dd363ded2be6",
        "colab": {
          "base_uri": "https://localhost:8080/",
          "height": 72
        }
      },
      "source": [
        "for img_name, captions in validation_description.items():\n",
        "  print(img_name)\n",
        "  print(captions)\n",
        "  break"
      ],
      "execution_count": 42,
      "outputs": [
        {
          "output_type": "stream",
          "text": [
            "1000092795.jpg\n",
            "['two young guys with shaggy hair look at their hands while hanging out in the yard', 'two young white males are outside near many bushes', 'two men in green shirts are standing in yard', 'man in blue shirt standing in garden', 'two friends enjoy time spent together']\n"
          ],
          "name": "stdout"
        }
      ]
    },
    {
      "cell_type": "code",
      "metadata": {
        "id": "6zH3bXS6NRtm",
        "colab_type": "code",
        "colab": {}
      },
      "source": [
        "# cleaning training description\n",
        "for img_name, captions in training_description.items():\n",
        "  for i in range(len(captions)):\n",
        "    captions[i] = clean_text(captions[i])"
      ],
      "execution_count": 0,
      "outputs": []
    },
    {
      "cell_type": "code",
      "metadata": {
        "id": "mc9Pos6-CiRR",
        "colab_type": "code",
        "outputId": "c42c0976-d6cd-4370-8a28-059773f9d45c",
        "colab": {
          "base_uri": "https://localhost:8080/",
          "height": 72
        }
      },
      "source": [
        "for img_name, captions in training_description.items():\n",
        "  print(img_name)\n",
        "  print(captions)\n",
        "  break"
      ],
      "execution_count": 44,
      "outputs": [
        {
          "output_type": "stream",
          "text": [
            "126227418.jpg\n",
            "['man in plaid shirt with laptop in his lap is sitting next to table with microscope and circuit board on it', 'man in plaid shirt connecting his black laptop to his microscope', 'guy with laptop connected to microscope doing some research', 'guy hooking up his laptop to microscope', 'man working on circuit board']\n"
          ],
          "name": "stdout"
        }
      ]
    },
    {
      "cell_type": "code",
      "metadata": {
        "id": "LU0xX1ybCiKX",
        "colab_type": "code",
        "colab": {}
      },
      "source": [
        "# save the clean text in json file\n",
        "with open('flickr30k/captions/val/clean_val_desc.json', 'w') as fp:\n",
        "  json.dump(validation_description, fp)\n",
        "with open('flickr30k/captions/train/clean_train_desc.json', 'w') as fp:\n",
        "  json.dump(training_description, fp)"
      ],
      "execution_count": 0,
      "outputs": []
    },
    {
      "cell_type": "markdown",
      "metadata": {
        "id": "CH_GTCxteVE4",
        "colab_type": "text"
      },
      "source": [
        "#### 1.1.1 Vocabulary Creation"
      ]
    },
    {
      "cell_type": "code",
      "metadata": {
        "id": "wz1DyKb9Ch_w",
        "colab_type": "code",
        "outputId": "511cbbd2-642d-4df1-9f9a-07d9c4f85466",
        "colab": {
          "base_uri": "https://localhost:8080/",
          "height": 34
        }
      },
      "source": [
        "print(type(training_description))"
      ],
      "execution_count": 46,
      "outputs": [
        {
          "output_type": "stream",
          "text": [
            "<class 'dict'>\n"
          ],
          "name": "stdout"
        }
      ]
    },
    {
      "cell_type": "code",
      "metadata": {
        "id": "_MbFuO-9hp-v",
        "colab_type": "code",
        "colab": {}
      },
      "source": [
        "# unique words\n",
        "vocab = set()\n",
        "\n",
        "# total words\n",
        "total_words = []\n",
        "\n",
        "\n",
        "# get the unique word from all captions (combined)\n",
        "for captions in training_description.values():\n",
        "  for i in range(len(captions)):\n",
        "    s = captions[i].split()\n",
        "    [vocab.update(s)]\n",
        "    for each in s:\n",
        "      total_words.append(each)\n",
        "  "
      ],
      "execution_count": 0,
      "outputs": []
    },
    {
      "cell_type": "code",
      "metadata": {
        "id": "C3P5hoyMhp31",
        "colab_type": "code",
        "outputId": "ffa4f605-bf25-4b43-8fff-71046c092c9c",
        "colab": {
          "base_uri": "https://localhost:8080/",
          "height": 34
        }
      },
      "source": [
        "print('total words = %d, unique words = %d' %(len(total_words), len(vocab)))"
      ],
      "execution_count": 48,
      "outputs": [
        {
          "output_type": "stream",
          "text": [
            "total words = 1638065, unique words = 17897\n"
          ],
          "name": "stdout"
        }
      ]
    },
    {
      "cell_type": "code",
      "metadata": {
        "id": "h2pxFXyHhpuB",
        "colab_type": "code",
        "outputId": "7032309c-348e-423c-96e2-a0cab5200032",
        "colab": {
          "base_uri": "https://localhost:8080/",
          "height": 34
        }
      },
      "source": [
        "total_words[:10]"
      ],
      "execution_count": 49,
      "outputs": [
        {
          "output_type": "execute_result",
          "data": {
            "text/plain": [
              "['man', 'in', 'plaid', 'shirt', 'with', 'laptop', 'in', 'his', 'lap', 'is']"
            ]
          },
          "metadata": {
            "tags": []
          },
          "execution_count": 49
        }
      ]
    },
    {
      "cell_type": "code",
      "metadata": {
        "id": "Pd5uH1XMhpgQ",
        "colab_type": "code",
        "colab": {}
      },
      "source": [
        "# filter words from vocab according to some threshold frequency\n",
        "\n",
        "counter = collections.Counter(total_words)\n"
      ],
      "execution_count": 0,
      "outputs": []
    },
    {
      "cell_type": "code",
      "metadata": {
        "id": "SNa0lON7hpTB",
        "colab_type": "code",
        "colab": {}
      },
      "source": [
        "word_freq = dict(counter)"
      ],
      "execution_count": 0,
      "outputs": []
    },
    {
      "cell_type": "code",
      "metadata": {
        "id": "2VYd_EDsvm1l",
        "colab_type": "code",
        "outputId": "b8a517d2-8126-400e-900f-70c9bec2fe01",
        "colab": {
          "base_uri": "https://localhost:8080/",
          "height": 34
        }
      },
      "source": [
        "len(word_freq)"
      ],
      "execution_count": 52,
      "outputs": [
        {
          "output_type": "execute_result",
          "data": {
            "text/plain": [
              "17897"
            ]
          },
          "metadata": {
            "tags": []
          },
          "execution_count": 52
        }
      ]
    },
    {
      "cell_type": "code",
      "metadata": {
        "id": "5H04YxpOvxvB",
        "colab_type": "code",
        "colab": {}
      },
      "source": [
        "# sort this dictionary according to frequency\n",
        "sorted_freq_count = sorted(word_freq.items(), key=operator.itemgetter(1))"
      ],
      "execution_count": 0,
      "outputs": []
    },
    {
      "cell_type": "code",
      "metadata": {
        "id": "nsd1EhHJxvx2",
        "colab_type": "code",
        "outputId": "3bfbbeea-c349-4745-afb9-04e0f65e7ac7",
        "colab": {
          "base_uri": "https://localhost:8080/",
          "height": 34
        }
      },
      "source": [
        "type(sorted_freq_count)"
      ],
      "execution_count": 54,
      "outputs": [
        {
          "output_type": "execute_result",
          "data": {
            "text/plain": [
              "list"
            ]
          },
          "metadata": {
            "tags": []
          },
          "execution_count": 54
        }
      ]
    },
    {
      "cell_type": "code",
      "metadata": {
        "id": "YYdq4pT4xens",
        "colab_type": "code",
        "colab": {}
      },
      "source": [
        "threshold = 5"
      ],
      "execution_count": 0,
      "outputs": []
    },
    {
      "cell_type": "code",
      "metadata": {
        "id": "0r7xuDQtw2iC",
        "colab_type": "code",
        "colab": {}
      },
      "source": [
        "sorted_freq_count = [x for x in sorted_freq_count if x[1] > threshold]"
      ],
      "execution_count": 0,
      "outputs": []
    },
    {
      "cell_type": "code",
      "metadata": {
        "id": "MBaq-g1Rw5UU",
        "colab_type": "code",
        "colab": {}
      },
      "source": [
        "words = [x[0] for x in sorted_freq_count]"
      ],
      "execution_count": 0,
      "outputs": []
    },
    {
      "cell_type": "code",
      "metadata": {
        "id": "OLU8WdGW1yGK",
        "colab_type": "code",
        "outputId": "adf65e3b-7179-421a-fd95-32896cfa13cc",
        "colab": {
          "base_uri": "https://localhost:8080/",
          "height": 34
        }
      },
      "source": [
        "len(words)"
      ],
      "execution_count": 58,
      "outputs": [
        {
          "output_type": "execute_result",
          "data": {
            "text/plain": [
              "6896"
            ]
          },
          "metadata": {
            "tags": []
          },
          "execution_count": 58
        }
      ]
    },
    {
      "cell_type": "code",
      "metadata": {
        "id": "HmV4HUmd2Ytk",
        "colab_type": "code",
        "colab": {}
      },
      "source": [
        ""
      ],
      "execution_count": 0,
      "outputs": []
    },
    {
      "cell_type": "markdown",
      "metadata": {
        "id": "hyQTaIRnim39",
        "colab_type": "text"
      },
      "source": [
        "#### 1.1.2 prepare description for training data\n",
        "#### adding start and snd token to caption\n",
        "  "
      ]
    },
    {
      "cell_type": "code",
      "metadata": {
        "id": "bN9EG8mRjpRi",
        "colab_type": "code",
        "colab": {}
      },
      "source": [
        "training_description = t_archive"
      ],
      "execution_count": 0,
      "outputs": []
    },
    {
      "cell_type": "code",
      "metadata": {
        "id": "zOHZPNPUiEGc",
        "colab_type": "code",
        "colab": {}
      },
      "source": [
        "for captions in training_description.values():\n",
        "  for i in range(len(captions)):\n",
        "    caption = captions[i].split()\n",
        "    caption.insert(0, 'startseq')\n",
        "    caption.append('endseq')\n",
        "    caption = \" \".join(caption)\n",
        "    captions[i] = caption\n",
        "    #print(caption)\n",
        "    "
      ],
      "execution_count": 0,
      "outputs": []
    },
    {
      "cell_type": "code",
      "metadata": {
        "id": "0R2oFkbbiD_e",
        "colab_type": "code",
        "outputId": "668e2eb0-93da-4f24-8ec0-d367bf43f131",
        "colab": {
          "base_uri": "https://localhost:8080/",
          "height": 34
        }
      },
      "source": [
        "len(training_description)"
      ],
      "execution_count": 61,
      "outputs": [
        {
          "output_type": "execute_result",
          "data": {
            "text/plain": [
              "31000"
            ]
          },
          "metadata": {
            "tags": []
          },
          "execution_count": 61
        }
      ]
    },
    {
      "cell_type": "code",
      "metadata": {
        "id": "MPtQXuvYiD4w",
        "colab_type": "code",
        "outputId": "fd60a92d-9486-422a-de34-43c2c3db30a4",
        "colab": {
          "base_uri": "https://localhost:8080/",
          "height": 124
        }
      },
      "source": [
        "training_description['126227418.jpg']"
      ],
      "execution_count": 62,
      "outputs": [
        {
          "output_type": "execute_result",
          "data": {
            "text/plain": [
              "['startseq man in plaid shirt with laptop in his lap is sitting next to table with microscope and circuit board on it endseq',\n",
              " 'startseq man in plaid shirt connecting his black laptop to his microscope endseq',\n",
              " 'startseq guy with laptop connected to microscope doing some research endseq',\n",
              " 'startseq guy hooking up his laptop to microscope endseq',\n",
              " 'startseq man working on circuit board endseq']"
            ]
          },
          "metadata": {
            "tags": []
          },
          "execution_count": 62
        }
      ]
    },
    {
      "cell_type": "markdown",
      "metadata": {
        "id": "6Liz3P2flZnz",
        "colab_type": "text"
      },
      "source": [
        "## 2. Feature  Extraction Models"
      ]
    },
    {
      "cell_type": "code",
      "metadata": {
        "id": "Y_T6WX3Azb3h",
        "colab_type": "code",
        "colab": {}
      },
      "source": [
        "from keras.models import *\n",
        "from keras.layers import *"
      ],
      "execution_count": 0,
      "outputs": []
    },
    {
      "cell_type": "markdown",
      "metadata": {
        "id": "yQQM24rOv2Wc",
        "colab_type": "text"
      },
      "source": [
        "### we will extract the feature from two CNN architecture"
      ]
    },
    {
      "cell_type": "markdown",
      "metadata": {
        "id": "oQeWqCZGv_jd",
        "colab_type": "text"
      },
      "source": [
        "### 2.1 Resnet50"
      ]
    },
    {
      "cell_type": "code",
      "metadata": {
        "id": "WIjghDp1iDt2",
        "colab_type": "code",
        "colab": {
          "base_uri": "https://localhost:8080/",
          "height": 315
        },
        "outputId": "abc995f4-405d-4767-d30f-069fa21e5a74"
      },
      "source": [
        "resnet50_base = keras.applications.resnet.ResNet50(weights='imagenet', input_shape=(224,224, 3))"
      ],
      "execution_count": 65,
      "outputs": [
        {
          "output_type": "stream",
          "text": [
            "WARNING:tensorflow:From /usr/local/lib/python3.6/dist-packages/keras/backend/tensorflow_backend.py:66: The name tf.get_default_graph is deprecated. Please use tf.compat.v1.get_default_graph instead.\n",
            "\n",
            "WARNING:tensorflow:From /usr/local/lib/python3.6/dist-packages/keras/backend/tensorflow_backend.py:541: The name tf.placeholder is deprecated. Please use tf.compat.v1.placeholder instead.\n",
            "\n",
            "WARNING:tensorflow:From /usr/local/lib/python3.6/dist-packages/keras/backend/tensorflow_backend.py:4432: The name tf.random_uniform is deprecated. Please use tf.random.uniform instead.\n",
            "\n",
            "WARNING:tensorflow:From /usr/local/lib/python3.6/dist-packages/keras/backend/tensorflow_backend.py:190: The name tf.get_default_session is deprecated. Please use tf.compat.v1.get_default_session instead.\n",
            "\n",
            "WARNING:tensorflow:From /usr/local/lib/python3.6/dist-packages/keras/backend/tensorflow_backend.py:197: The name tf.ConfigProto is deprecated. Please use tf.compat.v1.ConfigProto instead.\n",
            "\n",
            "WARNING:tensorflow:From /usr/local/lib/python3.6/dist-packages/keras/backend/tensorflow_backend.py:2041: The name tf.nn.fused_batch_norm is deprecated. Please use tf.compat.v1.nn.fused_batch_norm instead.\n",
            "\n",
            "WARNING:tensorflow:From /usr/local/lib/python3.6/dist-packages/keras/backend/tensorflow_backend.py:4267: The name tf.nn.max_pool is deprecated. Please use tf.nn.max_pool2d instead.\n",
            "\n",
            "Downloading data from https://github.com/keras-team/keras-applications/releases/download/resnet/resnet50_weights_tf_dim_ordering_tf_kernels.h5\n",
            "102973440/102967424 [==============================] - 8s 0us/step\n"
          ],
          "name": "stdout"
        }
      ]
    },
    {
      "cell_type": "code",
      "metadata": {
        "id": "1AgJjqvbiDkL",
        "colab_type": "code",
        "colab": {}
      },
      "source": [
        "# resnet50_base.summary()"
      ],
      "execution_count": 0,
      "outputs": []
    },
    {
      "cell_type": "markdown",
      "metadata": {
        "id": "el_X407dwGYY",
        "colab_type": "text"
      },
      "source": [
        "### 2.2 EfficientNet"
      ]
    },
    {
      "cell_type": "code",
      "metadata": {
        "id": "Rh1l6dIRiDXt",
        "colab_type": "code",
        "colab": {}
      },
      "source": [
        "# ! pip install keras_efficientnets\n",
        "import keras_efficientnets"
      ],
      "execution_count": 0,
      "outputs": []
    },
    {
      "cell_type": "code",
      "metadata": {
        "id": "t-fsL9WEtr2y",
        "colab_type": "code",
        "colab": {
          "base_uri": "https://localhost:8080/",
          "height": 72
        },
        "outputId": "33a3d1be-75fc-4901-e28d-3650ebe8ab7d"
      },
      "source": [
        "efficientb5_base = keras_efficientnets.EfficientNetB5(input_shape=(224, 224, 3), weights='imagenet', include_top=False)"
      ],
      "execution_count": 70,
      "outputs": [
        {
          "output_type": "stream",
          "text": [
            "Downloading data from https://github.com/titu1994/keras-efficientnets/releases/download/v0.1/efficientnet-b5_notop.h5\n",
            "115302400/115295288 [==============================] - 10s 0us/step\n"
          ],
          "name": "stdout"
        }
      ]
    },
    {
      "cell_type": "code",
      "metadata": {
        "id": "dJCyA9wriDGy",
        "colab_type": "code",
        "colab": {}
      },
      "source": [
        "# efficientb5_base.summary()"
      ],
      "execution_count": 0,
      "outputs": []
    },
    {
      "cell_type": "markdown",
      "metadata": {
        "id": "70m9itUqw6Sv",
        "colab_type": "text"
      },
      "source": [
        "### 2.3 keras functional API "
      ]
    },
    {
      "cell_type": "markdown",
      "metadata": {
        "id": "6x0Hamp2z2mb",
        "colab_type": "text"
      },
      "source": [
        "#### 2.3.1 ResNet50"
      ]
    },
    {
      "cell_type": "code",
      "metadata": {
        "id": "izA4s7Ffw2cD",
        "colab_type": "code",
        "colab": {}
      },
      "source": [
        "resnet = keras.Model(resnet50_base.input, resnet50_base.layers[-2].output)"
      ],
      "execution_count": 0,
      "outputs": []
    },
    {
      "cell_type": "code",
      "metadata": {
        "id": "azhK-w4VyBbu",
        "colab_type": "code",
        "colab": {}
      },
      "source": [
        "# resnet.summary()"
      ],
      "execution_count": 0,
      "outputs": []
    },
    {
      "cell_type": "markdown",
      "metadata": {
        "id": "9MrGZAblz6pU",
        "colab_type": "text"
      },
      "source": [
        "#### 2.3.2 EfficientNet"
      ]
    },
    {
      "cell_type": "code",
      "metadata": {
        "id": "aFJzT_n8z-Qh",
        "colab_type": "code",
        "colab": {}
      },
      "source": [
        "global_avg_pooling_layer = GlobalAveragePooling2D(data_format=None)(efficientb5_base.layers[-1].output)"
      ],
      "execution_count": 0,
      "outputs": []
    },
    {
      "cell_type": "code",
      "metadata": {
        "id": "4YZWRQvf0r6q",
        "colab_type": "code",
        "colab": {}
      },
      "source": [
        "efficient = Model(efficientb5_base.input, outputs = global_avg_pooling_layer)"
      ],
      "execution_count": 0,
      "outputs": []
    },
    {
      "cell_type": "code",
      "metadata": {
        "id": "vI8Kf3pG0xut",
        "colab_type": "code",
        "colab": {}
      },
      "source": [
        "# efficient.summary()"
      ],
      "execution_count": 0,
      "outputs": []
    },
    {
      "cell_type": "markdown",
      "metadata": {
        "id": "35Jsims6K3IT",
        "colab_type": "text"
      },
      "source": [
        "## 3. Data Preprocessing for Images"
      ]
    },
    {
      "cell_type": "code",
      "metadata": {
        "id": "iB1Hs_9WK_eq",
        "colab_type": "code",
        "colab": {}
      },
      "source": [
        "import keras.preprocessing.image as  image\n",
        "from keras.applications.resnet50 import preprocess_input"
      ],
      "execution_count": 0,
      "outputs": []
    },
    {
      "cell_type": "code",
      "metadata": {
        "id": "SQhaBJfS1LLK",
        "colab_type": "code",
        "colab": {}
      },
      "source": [
        "def image_preprocessing(img):\n",
        "  img = image.load_img(img, target_size=(224, 224))\n",
        "  img = image.img_to_array(img)\n",
        "  img = np.expand_dims(img, axis=0)\n",
        "  \n",
        "  # Normalization\n",
        "  img = preprocess_input(img)\n",
        "  \n",
        "  #print(img.shape)\n",
        "  return img"
      ],
      "execution_count": 0,
      "outputs": []
    },
    {
      "cell_type": "code",
      "metadata": {
        "id": "42yThjJYNTtX",
        "colab_type": "code",
        "colab": {}
      },
      "source": [
        "img = image_preprocessing('flickr30k/images/train/126227418.jpg')"
      ],
      "execution_count": 0,
      "outputs": []
    },
    {
      "cell_type": "code",
      "metadata": {
        "id": "gvS_jIFINauR",
        "colab_type": "code",
        "outputId": "2f0f2be1-fbe9-4fd7-e735-09e7ea1b5d1e",
        "colab": {
          "base_uri": "https://localhost:8080/",
          "height": 304
        }
      },
      "source": [
        "plt.imshow(img[0])"
      ],
      "execution_count": 80,
      "outputs": [
        {
          "output_type": "stream",
          "text": [
            "Clipping input data to the valid range for imshow with RGB data ([0..1] for floats or [0..255] for integers).\n"
          ],
          "name": "stderr"
        },
        {
          "output_type": "execute_result",
          "data": {
            "text/plain": [
              "<matplotlib.image.AxesImage at 0x7f9faf923f60>"
            ]
          },
          "metadata": {
            "tags": []
          },
          "execution_count": 80
        },
        {
          "output_type": "display_data",
          "data": {
            "image/png": "[encoded data removed]",
            "text/plain": [
              "<Figure size 432x288 with 1 Axes>"
            ]
          },
          "metadata": {
            "tags": []
          }
        }
      ]
    },
    {
      "cell_type": "code",
      "metadata": {
        "id": "_Sx5bSRFNeZk",
        "colab_type": "code",
        "colab": {}
      },
      "source": [
        "def encode_image(img):\n",
        "  \n",
        "  img = image_preprocessing(img)\n",
        "  \n",
        "  feature_vector = resnet.predict(img)\n",
        "  \n",
        "  #print(feature_vector.shape)\n",
        "  feature_vector = feature_vector.reshape((-1, ))\n",
        "  \n",
        "  return feature_vector"
      ],
      "execution_count": 0,
      "outputs": []
    },
    {
      "cell_type": "code",
      "metadata": {
        "id": "HmtkxTqbcLyS",
        "colab_type": "code",
        "outputId": "4970cfc8-a487-42ad-a5ea-d0158b8c7b3b",
        "colab": {
          "base_uri": "https://localhost:8080/",
          "height": 34
        }
      },
      "source": [
        "encode_image('flickr30k/images/train/126227418.jpg').shape"
      ],
      "execution_count": 82,
      "outputs": [
        {
          "output_type": "execute_result",
          "data": {
            "text/plain": [
              "(2048,)"
            ]
          },
          "metadata": {
            "tags": []
          },
          "execution_count": 82
        }
      ]
    },
    {
      "cell_type": "markdown",
      "metadata": {
        "id": "ZQQRdCeOc_YE",
        "colab_type": "text"
      },
      "source": [
        "### 3.1 Extracting the features for all images"
      ]
    },
    {
      "cell_type": "code",
      "metadata": {
        "id": "XKtfYwDYgdJ5",
        "colab_type": "code",
        "colab": {}
      },
      "source": [
        "import time\n",
        "import pickle"
      ],
      "execution_count": 0,
      "outputs": []
    },
    {
      "cell_type": "code",
      "metadata": {
        "id": "wd9XIyprcQEh",
        "colab_type": "code",
        "colab": {}
      },
      "source": [
        "list_of_train_images = os.listdir(train_dir)\n",
        "list_of_val_images = os.listdir(val_dir)"
      ],
      "execution_count": 0,
      "outputs": []
    },
    {
      "cell_type": "code",
      "metadata": {
        "id": "zxiroBnBd_yK",
        "colab_type": "code",
        "outputId": "7f7ab108-cfca-4a48-db63-ab563d364b0d",
        "colab": {
          "base_uri": "https://localhost:8080/",
          "height": 52
        }
      },
      "source": [
        "print(len(list_of_train_images))\n",
        "print(len(list_of_val_images))"
      ],
      "execution_count": 85,
      "outputs": [
        {
          "output_type": "stream",
          "text": [
            "31000\n",
            "783\n"
          ],
          "name": "stdout"
        }
      ]
    },
    {
      "cell_type": "markdown",
      "metadata": {
        "id": "CV_BDwRagEBB",
        "colab_type": "text"
      },
      "source": [
        ""
      ]
    },
    {
      "cell_type": "code",
      "metadata": {
        "id": "Nu-AYjwheIB8",
        "colab_type": "code",
        "outputId": "0105c958-194e-47ec-e561-337b90f8fefb",
        "colab": {
          "base_uri": "https://localhost:8080/",
          "height": 573
        }
      },
      "source": [
        "encoding_train = {}\n",
        "\n",
        "start = time.time()\n",
        "\n",
        "for ith in range(len(list_of_train_images)):\n",
        "  encoding_train[list_of_train_images[ith]] = encode_image(train_dir+list_of_train_images[ith])\n",
        "  \n",
        "  if ith%1000 == 0:\n",
        "    print('encoding progress time step %d'%ith)\n",
        "\n",
        "end = time.time()\n",
        "print('time taken = %d'%(end - start))"
      ],
      "execution_count": 123,
      "outputs": [
        {
          "output_type": "stream",
          "text": [
            "encoding progress time step 0\n",
            "encoding progress time step 1000\n",
            "encoding progress time step 2000\n",
            "encoding progress time step 3000\n",
            "encoding progress time step 4000\n",
            "encoding progress time step 5000\n",
            "encoding progress time step 6000\n",
            "encoding progress time step 7000\n",
            "encoding progress time step 8000\n",
            "encoding progress time step 9000\n",
            "encoding progress time step 10000\n",
            "encoding progress time step 11000\n",
            "encoding progress time step 12000\n",
            "encoding progress time step 13000\n",
            "encoding progress time step 14000\n",
            "encoding progress time step 15000\n",
            "encoding progress time step 16000\n",
            "encoding progress time step 17000\n",
            "encoding progress time step 18000\n",
            "encoding progress time step 19000\n",
            "encoding progress time step 20000\n",
            "encoding progress time step 21000\n",
            "encoding progress time step 22000\n",
            "encoding progress time step 23000\n",
            "encoding progress time step 24000\n",
            "encoding progress time step 25000\n",
            "encoding progress time step 26000\n",
            "encoding progress time step 27000\n",
            "encoding progress time step 28000\n",
            "encoding progress time step 29000\n",
            "encoding progress time step 30000\n",
            "time taken = 1044\n"
          ],
          "name": "stdout"
        }
      ]
    },
    {
      "cell_type": "code",
      "metadata": {
        "id": "V4UWwUABkMmS",
        "colab_type": "code",
        "outputId": "baca7c5f-2956-436f-a879-e57c0e79128b",
        "colab": {
          "base_uri": "https://localhost:8080/",
          "height": 173
        }
      },
      "source": [
        "encoding_val = {}\n",
        "\n",
        "start = time.time()\n",
        "\n",
        "for ith in range(len(list_of_val_images)):\n",
        "  encoding_val[list_of_val_images[ith]] = encode_image(val_dir+list_of_val_images[ith])\n",
        "  \n",
        "  if ith%100 == 0:\n",
        "    print('encoding progress time step %d'%ith)\n",
        "\n",
        "end = time.time()\n",
        "print('time taken = %d'%(end - start))"
      ],
      "execution_count": 124,
      "outputs": [
        {
          "output_type": "stream",
          "text": [
            "encoding progress time step 0\n",
            "encoding progress time step 100\n",
            "encoding progress time step 200\n",
            "encoding progress time step 300\n",
            "encoding progress time step 400\n",
            "encoding progress time step 500\n",
            "encoding progress time step 600\n",
            "encoding progress time step 700\n",
            "time taken = 25\n"
          ],
          "name": "stdout"
        }
      ]
    },
    {
      "cell_type": "markdown",
      "metadata": {
        "id": "KSFxiTRSk4b5",
        "colab_type": "text"
      },
      "source": [
        "### 3.2 store the extracted feature into disk"
      ]
    },
    {
      "cell_type": "code",
      "metadata": {
        "id": "qxAXMUAngrHx",
        "colab_type": "code",
        "outputId": "d52585fd-2ff5-4c97-d059-ac5c7c378cc7",
        "colab": {
          "base_uri": "https://localhost:8080/",
          "height": 34
        }
      },
      "source": [
        "encoding_train['126227418.jpg'].shape"
      ],
      "execution_count": 88,
      "outputs": [
        {
          "output_type": "execute_result",
          "data": {
            "text/plain": [
              "(2048,)"
            ]
          },
          "metadata": {
            "tags": []
          },
          "execution_count": 88
        }
      ]
    },
    {
      "cell_type": "code",
      "metadata": {
        "id": "G4A_YiUxlZBr",
        "colab_type": "code",
        "colab": {}
      },
      "source": [
        "with open('train_features.pkl', 'wb') as fp:\n",
        "  pickle.dump(encoding_train, fp)\n",
        "with open('val_features.pkl', 'wb') as fp:\n",
        "  pickle.dump(encoding_val, fp)"
      ],
      "execution_count": 0,
      "outputs": []
    },
    {
      "cell_type": "code",
      "metadata": {
        "id": "FKiAPNXXktAb",
        "colab_type": "code",
        "colab": {}
      },
      "source": [
        "# clear the dictionary to free the ram we will store from pkl file whenever we need\n",
        "encoding_train.clear()\n",
        "encoding_val.clear()"
      ],
      "execution_count": 0,
      "outputs": []
    },
    {
      "cell_type": "markdown",
      "metadata": {
        "id": "BT_N3PYIqpQ8",
        "colab_type": "text"
      },
      "source": [
        "## 4. Text Preprocessing for Captions"
      ]
    },
    {
      "cell_type": "code",
      "metadata": {
        "id": "5zO7ni3cqr37",
        "colab_type": "code",
        "outputId": "28c176bd-6777-4807-f7e0-d91520d3df63",
        "colab": {
          "base_uri": "https://localhost:8080/",
          "height": 34
        }
      },
      "source": [
        "len(vocab)"
      ],
      "execution_count": 132,
      "outputs": [
        {
          "output_type": "execute_result",
          "data": {
            "text/plain": [
              "17897"
            ]
          },
          "metadata": {
            "tags": []
          },
          "execution_count": 132
        }
      ]
    },
    {
      "cell_type": "code",
      "metadata": {
        "id": "juyTlcNErQGI",
        "colab_type": "code",
        "outputId": "d3842271-713f-4998-e8a7-bf91444e8728",
        "colab": {
          "base_uri": "https://localhost:8080/",
          "height": 34
        }
      },
      "source": [
        "len(words)"
      ],
      "execution_count": 92,
      "outputs": [
        {
          "output_type": "execute_result",
          "data": {
            "text/plain": [
              "6896"
            ]
          },
          "metadata": {
            "tags": []
          },
          "execution_count": 92
        }
      ]
    },
    {
      "cell_type": "code",
      "metadata": {
        "id": "XEpdV0_zrR_1",
        "colab_type": "code",
        "colab": {}
      },
      "source": [
        "word_to_idx = {}\n",
        "idx_to_word = {}\n",
        "\n",
        "for i,  word in enumerate(words):\n",
        "  word_to_idx[word] = (i+1)\n",
        "  idx_to_word[i+1] = word"
      ],
      "execution_count": 0,
      "outputs": []
    },
    {
      "cell_type": "code",
      "metadata": {
        "id": "K9ls2n8vsY__",
        "colab_type": "code",
        "outputId": "9b309904-6558-4797-a418-396f99d02922",
        "colab": {
          "base_uri": "https://localhost:8080/",
          "height": 34
        }
      },
      "source": [
        "idx_to_word[6]"
      ],
      "execution_count": 94,
      "outputs": [
        {
          "output_type": "execute_result",
          "data": {
            "text/plain": [
              "'ohio'"
            ]
          },
          "metadata": {
            "tags": []
          },
          "execution_count": 94
        }
      ]
    },
    {
      "cell_type": "code",
      "metadata": {
        "id": "DXALa8_BU7Nm",
        "colab_type": "code",
        "colab": {}
      },
      "source": [
        "# add two special words (startseq, endseq) into dicitonaries\n",
        "idx_to_word[6897] = 'endseq'\n",
        "word_to_idx['endseq'] = 6897\n",
        "\n",
        "idx_to_word[6898] = 'startseq'\n",
        "word_to_idx['startseq'] = 6898"
      ],
      "execution_count": 0,
      "outputs": []
    },
    {
      "cell_type": "code",
      "metadata": {
        "id": "4jk8jVZqVovb",
        "colab_type": "code",
        "outputId": "65da53ca-dc89-4986-d652-09fcaae0f268",
        "colab": {
          "base_uri": "https://localhost:8080/",
          "height": 34
        }
      },
      "source": [
        "len(word_to_idx)"
      ],
      "execution_count": 96,
      "outputs": [
        {
          "output_type": "execute_result",
          "data": {
            "text/plain": [
              "6898"
            ]
          },
          "metadata": {
            "tags": []
          },
          "execution_count": 96
        }
      ]
    },
    {
      "cell_type": "code",
      "metadata": {
        "id": "YzgnaM03VqZk",
        "colab_type": "code",
        "colab": {}
      },
      "source": [
        "vocab_size = len(word_to_idx)"
      ],
      "execution_count": 0,
      "outputs": []
    },
    {
      "cell_type": "markdown",
      "metadata": {
        "id": "g7gS-aezXOA6",
        "colab_type": "text"
      },
      "source": [
        "### 4.1 Find the maximum length description"
      ]
    },
    {
      "cell_type": "code",
      "metadata": {
        "id": "wTgjdP6eWM1g",
        "colab_type": "code",
        "colab": {}
      },
      "source": [
        "max_len = 0\n",
        "img_id = None\n",
        "\n",
        "\n",
        "for key in training_description.keys():\n",
        "  for caption in training_description[key]:\n",
        "    if len(caption) > max_len:\n",
        "      max_len = len(caption)\n",
        "      img_id = key"
      ],
      "execution_count": 0,
      "outputs": []
    },
    {
      "cell_type": "code",
      "metadata": {
        "id": "96Llk_GjXund",
        "colab_type": "code",
        "outputId": "69c2b0b9-ee58-4084-ee61-e2efdce67ed0",
        "colab": {
          "base_uri": "https://localhost:8080/",
          "height": 34
        }
      },
      "source": [
        "max_len"
      ],
      "execution_count": 99,
      "outputs": [
        {
          "output_type": "execute_result",
          "data": {
            "text/plain": [
              "402"
            ]
          },
          "metadata": {
            "tags": []
          },
          "execution_count": 99
        }
      ]
    },
    {
      "cell_type": "code",
      "metadata": {
        "id": "FWkq1LTfXz4C",
        "colab_type": "code",
        "outputId": "ebe8009a-bac3-47d5-fb1d-3afca942fc97",
        "colab": {
          "base_uri": "https://localhost:8080/",
          "height": 34
        }
      },
      "source": [
        "len(training_description[img_id][0])"
      ],
      "execution_count": 100,
      "outputs": [
        {
          "output_type": "execute_result",
          "data": {
            "text/plain": [
              "402"
            ]
          },
          "metadata": {
            "tags": []
          },
          "execution_count": 100
        }
      ]
    },
    {
      "cell_type": "code",
      "metadata": {
        "id": "VOYFb_KxY-5Z",
        "colab_type": "code",
        "outputId": "81998bf1-7346-4b73-91f5-fd1b925592e0",
        "colab": {
          "base_uri": "https://localhost:8080/",
          "height": 34
        }
      },
      "source": [
        "img_id"
      ],
      "execution_count": 101,
      "outputs": [
        {
          "output_type": "execute_result",
          "data": {
            "text/plain": [
              "'207344485.jpg'"
            ]
          },
          "metadata": {
            "tags": []
          },
          "execution_count": 101
        }
      ]
    },
    {
      "cell_type": "code",
      "metadata": {
        "id": "qf3qfKntZEze",
        "colab_type": "code",
        "colab": {}
      },
      "source": [
        "img = cv2.imread('flickr30k/images/train/207344485.jpg')\n",
        "img = cv2.cvtColor(img, cv2.COLOR_BGR2RGB)"
      ],
      "execution_count": 0,
      "outputs": []
    },
    {
      "cell_type": "code",
      "metadata": {
        "id": "ixFZQzhUYqee",
        "colab_type": "code",
        "outputId": "0e3d7360-53a1-44e6-9b6b-bcae7fdc32e2",
        "colab": {
          "base_uri": "https://localhost:8080/",
          "height": 286
        }
      },
      "source": [
        "plt.imshow(img)"
      ],
      "execution_count": 103,
      "outputs": [
        {
          "output_type": "execute_result",
          "data": {
            "text/plain": [
              "<matplotlib.image.AxesImage at 0x7f9fb0366f60>"
            ]
          },
          "metadata": {
            "tags": []
          },
          "execution_count": 103
        },
        {
          "output_type": "display_data",
          "data": {
            "image/png": "[encoded data removed]",
            "text/plain": [
              "<Figure size 432x288 with 1 Axes>"
            ]
          },
          "metadata": {
            "tags": []
          }
        }
      ]
    },
    {
      "cell_type": "markdown",
      "metadata": {
        "id": "lzb9j4-aOgGF",
        "colab_type": "text"
      },
      "source": [
        "#### Saving the processed data into local directory"
      ]
    },
    {
      "cell_type": "code",
      "metadata": {
        "id": "thTD7vehOPVM",
        "colab_type": "code",
        "colab": {}
      },
      "source": [
        "# !zip -r flickr30k.zip flickr30k"
      ],
      "execution_count": 0,
      "outputs": []
    },
    {
      "cell_type": "code",
      "metadata": {
        "id": "jQx2_dsLPAhK",
        "colab_type": "code",
        "colab": {
          "base_uri": "https://localhost:8080/",
          "height": 34
        },
        "outputId": "b332f903-cde0-4e8a-d42a-aaa7a3742e14"
      },
      "source": [
        "encoding_val"
      ],
      "execution_count": 120,
      "outputs": [
        {
          "output_type": "execute_result",
          "data": {
            "text/plain": [
              "{}"
            ]
          },
          "metadata": {
            "tags": []
          },
          "execution_count": 120
        }
      ]
    },
    {
      "cell_type": "markdown",
      "metadata": {
        "id": "uEfqvKLEBoMS",
        "colab_type": "text"
      },
      "source": [
        "### 4.2 Data Loader Generator"
      ]
    },
    {
      "cell_type": "code",
      "metadata": {
        "id": "zkpQ3LR_dZC0",
        "colab_type": "code",
        "colab": {}
      },
      "source": [
        "from keras.preprocessing.sequence import pad_sequences\n",
        "from keras.utils.np_utils import to_categorical\n"
      ],
      "execution_count": 0,
      "outputs": []
    },
    {
      "cell_type": "code",
      "metadata": {
        "id": "5pWgU2WdhPSC",
        "colab_type": "code",
        "colab": {
          "base_uri": "https://localhost:8080/",
          "height": 34
        },
        "outputId": "b33bb9e4-dd7c-42dd-afe4-13932c54a78a"
      },
      "source": [
        "vocab_size"
      ],
      "execution_count": 131,
      "outputs": [
        {
          "output_type": "execute_result",
          "data": {
            "text/plain": [
              "6898"
            ]
          },
          "metadata": {
            "tags": []
          },
          "execution_count": 131
        }
      ]
    },
    {
      "cell_type": "code",
      "metadata": {
        "id": "MMk9sGHpBzFU",
        "colab_type": "code",
        "colab": {}
      },
      "source": [
        "def data_generator(train_descriptions, encoding_train, word_to_idx, max_len, num_photos_per_batch):\n",
        "\n",
        "    X1, X2, y = [], [], []\n",
        "    n=0\n",
        "    while True:\n",
        "        \n",
        "        for key, desc_list in train_descriptions.items():\n",
        "            n +=1\n",
        "\n",
        "            photo = encoding_train[key]\n",
        "\n",
        "            for desc in desc_list:\n",
        "                \n",
        "                seq = [ word_to_idx[word] for word in desc.split() if word in word_to_idx]  \n",
        "\n",
        "                for i in range(1,len(seq)):\n",
        "\n",
        "                    in_seq = seq[0:i]\n",
        "                    out_seq = seq[i]\n",
        "\n",
        "                    in_seq = pad_sequences([in_seq], maxlen=max_len, value=0, padding='post')[0]\n",
        "\n",
        "                    out_seq = to_categorical([out_seq], num_classes=vocab_size)[0]\n",
        "\n",
        "                    X1.append(photo)\n",
        "                    X2.append(in_seq)\n",
        "                    y.append(out_seq)\n",
        "\n",
        "            if n==num_photos_per_batch:\n",
        "                yield [[np.array(X1), np.array(X2)], np.array(y)]\n",
        "                X1, X2, y = [], [], []\n",
        "                n=0"
      ],
      "execution_count": 0,
      "outputs": []
    },
    {
      "cell_type": "markdown",
      "metadata": {
        "id": "hW9WdPSei36u",
        "colab_type": "text"
      },
      "source": [
        "### 4.3 Word Embeddings"
      ]
    },
    {
      "cell_type": "code",
      "metadata": {
        "id": "23_jocy7dOa1",
        "colab_type": "code",
        "colab": {
          "base_uri": "https://localhost:8080/",
          "height": 104
        },
        "outputId": "b14b6217-d466-4759-e387-6ce607181a3b"
      },
      "source": [
        "!unzip drive/My\\ Drive/glove.6B"
      ],
      "execution_count": 135,
      "outputs": [
        {
          "output_type": "stream",
          "text": [
            "Archive:  drive/My Drive/glove.6B.zip\n",
            "  inflating: glove.6B.50d.txt        \n",
            "  inflating: glove.6B.100d.txt       \n",
            "  inflating: glove.6B.200d.txt       \n",
            "  inflating: glove.6B.300d.txt       \n"
          ],
          "name": "stdout"
        }
      ]
    },
    {
      "cell_type": "code",
      "metadata": {
        "id": "ohejDwGOttZj",
        "colab_type": "code",
        "colab": {}
      },
      "source": [
        "f = open('glove.6B.50d.txt')"
      ],
      "execution_count": 0,
      "outputs": []
    },
    {
      "cell_type": "code",
      "metadata": {
        "id": "Q0dEvDljuviW",
        "colab_type": "code",
        "colab": {}
      },
      "source": [
        "embedding_idx = {}"
      ],
      "execution_count": 0,
      "outputs": []
    },
    {
      "cell_type": "code",
      "metadata": {
        "id": "Sj_7Kgbpt9Hw",
        "colab_type": "code",
        "colab": {}
      },
      "source": [
        "for line in f:\n",
        "  values = line.split()\n",
        "  \n",
        "  word = values[0]\n",
        "  \n",
        "  embedding = np.array(values[1:], dtype='float')\n",
        "  \n",
        "  embedding_idx[word] = embedding"
      ],
      "execution_count": 0,
      "outputs": []
    },
    {
      "cell_type": "code",
      "metadata": {
        "id": "ZZG5SL6YutkU",
        "colab_type": "code",
        "colab": {
          "base_uri": "https://localhost:8080/",
          "height": 34
        },
        "outputId": "245156cd-6059-4ab8-abe6-751160ff1520"
      },
      "source": [
        "embedding_idx['hello'].shape"
      ],
      "execution_count": 140,
      "outputs": [
        {
          "output_type": "execute_result",
          "data": {
            "text/plain": [
              "(50,)"
            ]
          },
          "metadata": {
            "tags": []
          },
          "execution_count": 140
        }
      ]
    },
    {
      "cell_type": "code",
      "metadata": {
        "id": "jwkUFPx9vOBz",
        "colab_type": "code",
        "colab": {}
      },
      "source": [
        "f.close()"
      ],
      "execution_count": 0,
      "outputs": []
    },
    {
      "cell_type": "code",
      "metadata": {
        "id": "s5DM348_vcQr",
        "colab_type": "code",
        "colab": {}
      },
      "source": [
        "def get_embedding_matrix():\n",
        "  \n",
        "  emb_dim = 50\n",
        "  matrix = np.zeros((vocab_size, emb_dim))\n",
        "  \n",
        "  for word, idx in word_to_idx.items():\n",
        "    \n",
        "    embedding = embedding_idx.get(word)\n",
        "    \n",
        "    if embedding is not None:\n",
        "      matrix[idx] = embedding\n",
        "     \n",
        "   \n",
        "    return matrix\n",
        "    \n",
        "    "
      ],
      "execution_count": 0,
      "outputs": []
    },
    {
      "cell_type": "code",
      "metadata": {
        "id": "iqKGNu_VwhYV",
        "colab_type": "code",
        "colab": {}
      },
      "source": [
        "embedding_matrix = get_embedding_matrix()"
      ],
      "execution_count": 0,
      "outputs": []
    },
    {
      "cell_type": "code",
      "metadata": {
        "id": "FXteVF3cxNKA",
        "colab_type": "code",
        "colab": {
          "base_uri": "https://localhost:8080/",
          "height": 34
        },
        "outputId": "8ed1f9ac-f529-454f-9db7-2d8b219d5697"
      },
      "source": [
        "embedding_matrix.shape"
      ],
      "execution_count": 148,
      "outputs": [
        {
          "output_type": "execute_result",
          "data": {
            "text/plain": [
              "(6898, 50)"
            ]
          },
          "metadata": {
            "tags": []
          },
          "execution_count": 148
        }
      ]
    },
    {
      "cell_type": "code",
      "metadata": {
        "id": "Rg_5QO6bwj8b",
        "colab_type": "code",
        "colab": {
          "base_uri": "https://localhost:8080/",
          "height": 69
        },
        "outputId": "3080cb96-38fd-4fd7-f7fd-2a4bfed9b1b2"
      },
      "source": [
        "embedding_matrix[6897]"
      ],
      "execution_count": 151,
      "outputs": [
        {
          "output_type": "execute_result",
          "data": {
            "text/plain": [
              "array([0., 0., 0., 0., 0., 0., 0., 0., 0., 0., 0., 0., 0., 0., 0., 0., 0.,\n",
              "       0., 0., 0., 0., 0., 0., 0., 0., 0., 0., 0., 0., 0., 0., 0., 0., 0.,\n",
              "       0., 0., 0., 0., 0., 0., 0., 0., 0., 0., 0., 0., 0., 0., 0., 0.])"
            ]
          },
          "metadata": {
            "tags": []
          },
          "execution_count": 151
        }
      ]
    },
    {
      "cell_type": "code",
      "metadata": {
        "id": "Ryf2Ek0exYJE",
        "colab_type": "code",
        "colab": {}
      },
      "source": [
        ""
      ],
      "execution_count": 0,
      "outputs": []
    },
    {
      "cell_type": "markdown",
      "metadata": {
        "id": "5w5rY6cCyEN7",
        "colab_type": "text"
      },
      "source": [
        "## 5. Model Architecture"
      ]
    },
    {
      "cell_type": "code",
      "metadata": {
        "id": "YUWXCaZUyGac",
        "colab_type": "code",
        "colab": {}
      },
      "source": [
        "from keras.layers import *\n",
        "from keras.optimizers import *"
      ],
      "execution_count": 0,
      "outputs": []
    },
    {
      "cell_type": "code",
      "metadata": {
        "id": "sa5EFQEt3-nX",
        "colab_type": "code",
        "colab": {}
      },
      "source": [
        "# # image feature extractor model\n",
        "# input_img_fea = Input(shape=(2048,))\n",
        "# inp_img1 = Dropout(0.3)(input_img_fea)\n",
        "# inp_img2 = Dense(256, activation='relu')(inp_img1)\n",
        "\n"
      ],
      "execution_count": 0,
      "outputs": []
    },
    {
      "cell_type": "code",
      "metadata": {
        "id": "4O3HgaIz3_9G",
        "colab_type": "code",
        "colab": {}
      },
      "source": [
        "# # partial caption sequence model\n",
        "# input_cap = Input(shape=(max_len,))\n",
        "# inp_cap1 = Embedding(input_dim=vocab_size, output_dim=50, mask_zero=True)(input_cap)\n",
        "# inp_cap2 = Dropout(0.3)(inp_cap1)\n",
        "# inp_cap3 = LSTM(256)(inp_cap2)"
      ],
      "execution_count": 0,
      "outputs": []
    },
    {
      "cell_type": "code",
      "metadata": {
        "id": "P4eAuzmz4Ee7",
        "colab_type": "code",
        "colab": {}
      },
      "source": [
        "# decoder1 = add([inp_img2 , inp_cap3])\n",
        "# decoder2 = Dense(256, activation='relu')(decoder1)\n",
        "# outputs = Dense(vocab_size, activation='softmax')(decoder2)\n",
        "\n",
        "# # Merge 2 networks\n",
        "# model = Model(inputs=[input_img_fea, input_cap], outputs=outputs)"
      ],
      "execution_count": 0,
      "outputs": []
    },
    {
      "cell_type": "code",
      "metadata": {
        "id": "LBz7oj4a4JmM",
        "colab_type": "code",
        "colab": {}
      },
      "source": [
        ""
      ],
      "execution_count": 0,
      "outputs": []
    },
    {
      "cell_type": "code",
      "metadata": {
        "id": "8IeMDQGR0KOc",
        "colab_type": "code",
        "colab": {}
      },
      "source": [
        "def model_architecture(vocab_size, feature_shape=(2048, ),emb_dim=50):\n",
        "  \n",
        "  # image model -> image feature as input\n",
        "  input_img_features = Input(shape=(2048, ))\n",
        "  input_img1 = Dropout(0.3)(input_img_features)\n",
        "  input_img2 = Dense(256, activation='relu')(input_img1)\n",
        "  \n",
        "  #text model -> captions as input\n",
        "  input_captions = Input(shape=(max_len, ))\n",
        "  input_cap1 = Embedding(input_dim=vocab_size, output_dim=50, mask_zero=True)(input_captions)\n",
        "  input_cap2 = Dropout(0.3)(input_cap1)\n",
        "  input_cap3 = LSTM(256)(input_cap2)\n",
        "  \n",
        "  # combined model to predict the prob fo the next word in the sequence\n",
        "  decoder1 = add([input_img2, input_cap3])\n",
        "  decoder2 = Dense(256, activation='relu')(decoder1)\n",
        "  decoder3 = Dense(vocab_size, activation='softmax')(decoder2)\n",
        "  \n",
        "  \n",
        "  model = Model(inputs=[input_img_features, input_captions], outputs=decoder3)\n",
        "  \n",
        "  return model\n",
        "  \n",
        "  "
      ],
      "execution_count": 0,
      "outputs": []
    },
    {
      "cell_type": "code",
      "metadata": {
        "id": "HmBEblXF3YgG",
        "colab_type": "code",
        "colab": {}
      },
      "source": [
        "model = model_architecture(vocab_size)"
      ],
      "execution_count": 0,
      "outputs": []
    },
    {
      "cell_type": "code",
      "metadata": {
        "id": "NIhZ25Uu0Vmr",
        "colab_type": "code",
        "colab": {
          "base_uri": "https://localhost:8080/",
          "height": 521
        },
        "outputId": "9c2a6bc1-7a73-4279-d7e3-8e0c1da7e065"
      },
      "source": [
        "model.summary()"
      ],
      "execution_count": 172,
      "outputs": [
        {
          "output_type": "stream",
          "text": [
            "Model: \"model_6\"\n",
            "__________________________________________________________________________________________________\n",
            "Layer (type)                    Output Shape         Param #     Connected to                     \n",
            "==================================================================================================\n",
            "input_14 (InputLayer)           (None, 402)          0                                            \n",
            "__________________________________________________________________________________________________\n",
            "input_13 (InputLayer)           (None, 2048)         0                                            \n",
            "__________________________________________________________________________________________________\n",
            "embedding_6 (Embedding)         (None, 402, 50)      344900      input_14[0][0]                   \n",
            "__________________________________________________________________________________________________\n",
            "dropout_11 (Dropout)            (None, 2048)         0           input_13[0][0]                   \n",
            "__________________________________________________________________________________________________\n",
            "dropout_12 (Dropout)            (None, 402, 50)      0           embedding_6[0][0]                \n",
            "__________________________________________________________________________________________________\n",
            "dense_12 (Dense)                (None, 256)          524544      dropout_11[0][0]                 \n",
            "__________________________________________________________________________________________________\n",
            "lstm_4 (LSTM)                   (None, 256)          314368      dropout_12[0][0]                 \n",
            "__________________________________________________________________________________________________\n",
            "add_36 (Add)                    (None, 256)          0           dense_12[0][0]                   \n",
            "                                                                 lstm_4[0][0]                     \n",
            "__________________________________________________________________________________________________\n",
            "dense_13 (Dense)                (None, 256)          65792       add_36[0][0]                     \n",
            "__________________________________________________________________________________________________\n",
            "dense_14 (Dense)                (None, 6898)         1772786     dense_13[0][0]                   \n",
            "==================================================================================================\n",
            "Total params: 3,022,390\n",
            "Trainable params: 3,022,390\n",
            "Non-trainable params: 0\n",
            "__________________________________________________________________________________________________\n"
          ],
          "name": "stdout"
        }
      ]
    },
    {
      "cell_type": "code",
      "metadata": {
        "id": "2NALaW_c4fcs",
        "colab_type": "code",
        "colab": {}
      },
      "source": [
        "model.layers[2].set_weights= embedding_matrix\n",
        "model.layers[2].trainable = False"
      ],
      "execution_count": 0,
      "outputs": []
    },
    {
      "cell_type": "code",
      "metadata": {
        "id": "oOfH4jBS7MaN",
        "colab_type": "code",
        "colab": {
          "base_uri": "https://localhost:8080/",
          "height": 72
        },
        "outputId": "f4eb3fc0-d7d3-48be-9a4e-2d5063fb11f9"
      },
      "source": [
        "model.compile(loss='categorical_crossentropy', optimizer='adam')"
      ],
      "execution_count": 176,
      "outputs": [
        {
          "output_type": "stream",
          "text": [
            "WARNING:tensorflow:From /usr/local/lib/python3.6/dist-packages/keras/optimizers.py:793: The name tf.train.Optimizer is deprecated. Please use tf.compat.v1.train.Optimizer instead.\n",
            "\n"
          ],
          "name": "stdout"
        }
      ]
    },
    {
      "cell_type": "markdown",
      "metadata": {
        "id": "rlgwxrgC73DC",
        "colab_type": "text"
      },
      "source": [
        "## 6. Training the Model"
      ]
    },
    {
      "cell_type": "code",
      "metadata": {
        "id": "T2Lpj5oh75oP",
        "colab_type": "code",
        "colab": {}
      },
      "source": [
        "epochs = 20\n",
        "batch_size = 4"
      ],
      "execution_count": 0,
      "outputs": []
    },
    {
      "cell_type": "code",
      "metadata": {
        "id": "eNIryGAs9f0R",
        "colab_type": "code",
        "colab": {}
      },
      "source": [
        "steps = len(training_description)//batch_size"
      ],
      "execution_count": 0,
      "outputs": []
    },
    {
      "cell_type": "code",
      "metadata": {
        "id": "sQwpwdUr9khF",
        "colab_type": "code",
        "colab": {
          "base_uri": "https://localhost:8080/",
          "height": 34
        },
        "outputId": "465120fe-5015-4bfc-83b0-183e441c170f"
      },
      "source": [
        "len(training_description)"
      ],
      "execution_count": 180,
      "outputs": [
        {
          "output_type": "execute_result",
          "data": {
            "text/plain": [
              "31000"
            ]
          },
          "metadata": {
            "tags": []
          },
          "execution_count": 180
        }
      ]
    },
    {
      "cell_type": "code",
      "metadata": {
        "id": "SXaCIMUt8Cbg",
        "colab_type": "code",
        "colab": {}
      },
      "source": [
        "def train():\n",
        "  \n",
        "  for epoch in range(epochs):\n",
        "    generator = data_generator(training_description, encoding_train, word_to_idx, max_len, batch_size)\n",
        "    \n",
        "    model.fit_generator(generator, epochs = 1, steps_per_epoch = steps, verbose=1)\n",
        "    \n",
        "    # save the  weights\n",
        "    model.save_weights('model_weights/'+str(epoch)+\".h5\")\n",
        "#     print(generator)\n",
        "#     break"
      ],
      "execution_count": 0,
      "outputs": []
    },
    {
      "cell_type": "code",
      "metadata": {
        "id": "6iP63KS30Y_h",
        "colab_type": "code",
        "colab": {
          "base_uri": "https://localhost:8080/",
          "height": 52
        },
        "outputId": "7e70f75e-1592-4dcb-e7b6-1d5954b97cdf"
      },
      "source": [
        "train()"
      ],
      "execution_count": 0,
      "outputs": [
        {
          "output_type": "stream",
          "text": [
            "Epoch 1/1\n",
            "2294/7750 [=======>......................] - ETA: 1:51:22 - loss: 5.3879"
          ],
          "name": "stdout"
        }
      ]
    },
    {
      "cell_type": "code",
      "metadata": {
        "id": "WIEOZAKN9za5",
        "colab_type": "code",
        "colab": {}
      },
      "source": [
        "data_generator()"
      ],
      "execution_count": 0,
      "outputs": []
    }
  ]
}