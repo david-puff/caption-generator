{
  "nbformat": 4,
  "nbformat_minor": 0,
  "metadata": {
    "colab": {
      "name": "image-captioning.ipynb",
      "version": "0.3.2",
      "provenance": [],
      "toc_visible": true
    },
    "kernelspec": {
      "name": "python3",
      "display_name": "Python 3"
    },
    "accelerator": "GPU"
  },
  "cells": [
    {
      "cell_type": "markdown",
      "metadata": {
        "id": "U-xRY9w4JWCn",
        "colab_type": "text"
      },
      "source": [
        "# Image Captioning - generating captions for images\n",
        "\n",
        "\n"
      ]
    },
    {
      "cell_type": "code",
      "metadata": {
        "id": "n7tADnlrG6DM",
        "colab_type": "code",
        "outputId": "f3c747a1-d654-451e-f23a-eaf62a5f5f3c",
        "colab": {
          "base_uri": "https://localhost:8080/",
          "height": 124
        }
      },
      "source": [
        "from google.colab import drive\n",
        "drive.mount('/content/drive')"
      ],
      "execution_count": 1,
      "outputs": [
        {
          "output_type": "stream",
          "text": [
            "Go to this URL in a browser: https://accounts.google.com/o/oauth2/auth?client_id=947318989803-6bn6qk8qdgf4n4g3pfee6491hc0brc4i.apps.googleusercontent.com&redirect_uri=urn%3Aietf%3Awg%3Aoauth%3A2.0%3Aoob&scope=email%20https%3A%2F%2Fwww.googleapis.com%2Fauth%2Fdocs.test%20https%3A%2F%2Fwww.googleapis.com%2Fauth%2Fdrive%20https%3A%2F%2Fwww.googleapis.com%2Fauth%2Fdrive.photos.readonly%20https%3A%2F%2Fwww.googleapis.com%2Fauth%2Fpeopleapi.readonly&response_type=code\n",
            "\n",
            "Enter your authorization code:\n",
            "··········\n",
            "Mounted at /content/drive\n"
          ],
          "name": "stdout"
        }
      ]
    },
    {
      "cell_type": "code",
      "metadata": {
        "id": "MT6U1on9HRWk",
        "colab_type": "code",
        "colab": {}
      },
      "source": [
        "# !unzip drive/My\\ Drive/flickr-image-dataset"
      ],
      "execution_count": 0,
      "outputs": []
    },
    {
      "cell_type": "code",
      "metadata": {
        "id": "oriRRwO1OURO",
        "colab_type": "code",
        "colab": {}
      },
      "source": [
        "import warnings\n",
        "warnings.filterwarnings('ignore')"
      ],
      "execution_count": 0,
      "outputs": []
    },
    {
      "cell_type": "code",
      "metadata": {
        "id": "bvxh_7RlL7tJ",
        "colab_type": "code",
        "colab": {}
      },
      "source": [
        "import shutil\n",
        "import os\n",
        "import json"
      ],
      "execution_count": 0,
      "outputs": []
    },
    {
      "cell_type": "code",
      "metadata": {
        "id": "seS9jDqQIoRF",
        "colab_type": "code",
        "colab": {}
      },
      "source": [
        "import numpy as np\n",
        "import pandas as pd\n",
        "import cv2\n",
        "import matplotlib.pyplot as plt\n",
        "import keras"
      ],
      "execution_count": 0,
      "outputs": []
    },
    {
      "cell_type": "code",
      "metadata": {
        "id": "sAjt6md34k7o",
        "colab_type": "code",
        "colab": {}
      },
      "source": [
        "# shutil.rmtree('flickr30k_images//')"
      ],
      "execution_count": 0,
      "outputs": []
    },
    {
      "cell_type": "markdown",
      "metadata": {
        "id": "0h0XOo90C4mQ",
        "colab_type": "text"
      },
      "source": [
        "## 1. Data Pipeline"
      ]
    },
    {
      "cell_type": "markdown",
      "metadata": {
        "id": "COPZM7-HwTSy",
        "colab_type": "text"
      },
      "source": [
        "#### 1.0.1 directory stucture for training\n",
        "flickr30k\n",
        "  - images\n",
        "    - train\n",
        "    - val\n",
        "  - captions\n",
        "    - train\n",
        "    - val"
      ]
    },
    {
      "cell_type": "code",
      "metadata": {
        "id": "FcqLgVw4v52_",
        "colab_type": "code",
        "colab": {}
      },
      "source": [
        "# parent directory\n",
        "if not os.path.isdir('flickr30k'):\n",
        "  os.mkdir('flickr30k')"
      ],
      "execution_count": 0,
      "outputs": []
    },
    {
      "cell_type": "code",
      "metadata": {
        "id": "yMmYerg6Ap9n",
        "colab_type": "code",
        "colab": {}
      },
      "source": [
        "# subdirecotry for images and captions\n",
        "if not os.path.isdir('flickr30k/images'):\n",
        "  os.mkdir('flickr30k/images')\n",
        "if not os.path.isdir('flickr30k/captions'):\n",
        "  os.mkdir('flickr30k/captions')"
      ],
      "execution_count": 0,
      "outputs": []
    },
    {
      "cell_type": "code",
      "metadata": {
        "id": "mZpQFo2DApxW",
        "colab_type": "code",
        "colab": {}
      },
      "source": [
        "# training and validation subdirectories\n",
        "if not os.path.isdir('flickr30k/images/train'):\n",
        "  os.mkdir('flickr30k/images/train')\n",
        "if not os.path.isdir('flickr30k/images/val'):\n",
        "  os.mkdir('flickr30k/images/val')\n",
        "if not os.path.isdir('flickr30k/captions/train'):\n",
        "  os.mkdir('flickr30k/captions/train')\n",
        "if not os.path.isdir('flickr30k/captions/val'):\n",
        "  os.mkdir('flickr30k/captions/val')"
      ],
      "execution_count": 0,
      "outputs": []
    },
    {
      "cell_type": "code",
      "metadata": {
        "id": "6xaPvO57AplL",
        "colab_type": "code",
        "colab": {}
      },
      "source": [
        "total_images = len(os.listdir('flickr30k_images/flickr30k_images/'))"
      ],
      "execution_count": 0,
      "outputs": []
    },
    {
      "cell_type": "code",
      "metadata": {
        "id": "kxtfoAn9B5ZV",
        "colab_type": "code",
        "colab": {}
      },
      "source": [
        "# 31K images for training and 783 for validation"
      ],
      "execution_count": 0,
      "outputs": []
    },
    {
      "cell_type": "code",
      "metadata": {
        "id": "7NUBBm8iJm43",
        "colab_type": "code",
        "colab": {}
      },
      "source": [
        "captions = pd.read_csv('flickr30k_images/results.csv', sep='delimiter', header=None)"
      ],
      "execution_count": 0,
      "outputs": []
    },
    {
      "cell_type": "code",
      "metadata": {
        "id": "0a5MyILuJzUB",
        "colab_type": "code",
        "outputId": "c2c35cc4-15d9-4fcf-ebef-cbf46e46ab64",
        "colab": {
          "base_uri": "https://localhost:8080/",
          "height": 206
        }
      },
      "source": [
        "captions.head()"
      ],
      "execution_count": 14,
      "outputs": [
        {
          "output_type": "execute_result",
          "data": {
            "text/html": [
              "<div>\n",
              "<style scoped>\n",
              "    .dataframe tbody tr th:only-of-type {\n",
              "        vertical-align: middle;\n",
              "    }\n",
              "\n",
              "    .dataframe tbody tr th {\n",
              "        vertical-align: top;\n",
              "    }\n",
              "\n",
              "    .dataframe thead th {\n",
              "        text-align: right;\n",
              "    }\n",
              "</style>\n",
              "<table border=\"1\" class=\"dataframe\">\n",
              "  <thead>\n",
              "    <tr style=\"text-align: right;\">\n",
              "      <th></th>\n",
              "      <th>0</th>\n",
              "    </tr>\n",
              "  </thead>\n",
              "  <tbody>\n",
              "    <tr>\n",
              "      <th>0</th>\n",
              "      <td>image_name| comment_number| comment</td>\n",
              "    </tr>\n",
              "    <tr>\n",
              "      <th>1</th>\n",
              "      <td>1000092795.jpg| 0| Two young guys with shaggy ...</td>\n",
              "    </tr>\n",
              "    <tr>\n",
              "      <th>2</th>\n",
              "      <td>1000092795.jpg| 1| Two young , White males are...</td>\n",
              "    </tr>\n",
              "    <tr>\n",
              "      <th>3</th>\n",
              "      <td>1000092795.jpg| 2| Two men in green shirts are...</td>\n",
              "    </tr>\n",
              "    <tr>\n",
              "      <th>4</th>\n",
              "      <td>1000092795.jpg| 3| A man in a blue shirt stand...</td>\n",
              "    </tr>\n",
              "  </tbody>\n",
              "</table>\n",
              "</div>"
            ],
            "text/plain": [
              "                                                   0\n",
              "0                image_name| comment_number| comment\n",
              "1  1000092795.jpg| 0| Two young guys with shaggy ...\n",
              "2  1000092795.jpg| 1| Two young , White males are...\n",
              "3  1000092795.jpg| 2| Two men in green shirts are...\n",
              "4  1000092795.jpg| 3| A man in a blue shirt stand..."
            ]
          },
          "metadata": {
            "tags": []
          },
          "execution_count": 14
        }
      ]
    },
    {
      "cell_type": "code",
      "metadata": {
        "id": "WdL_rYzPUMiL",
        "colab_type": "code",
        "colab": {}
      },
      "source": [
        "captions = captions.values[1:]"
      ],
      "execution_count": 0,
      "outputs": []
    },
    {
      "cell_type": "code",
      "metadata": {
        "id": "PZIQqg38UMbX",
        "colab_type": "code",
        "outputId": "e45d4c9b-8735-47f9-ee12-44b0de13f5fe",
        "colab": {
          "base_uri": "https://localhost:8080/",
          "height": 34
        }
      },
      "source": [
        "captions.shape"
      ],
      "execution_count": 16,
      "outputs": [
        {
          "output_type": "execute_result",
          "data": {
            "text/plain": [
              "(158915, 1)"
            ]
          },
          "metadata": {
            "tags": []
          },
          "execution_count": 16
        }
      ]
    },
    {
      "cell_type": "code",
      "metadata": {
        "id": "h0FwGm1yUMTk",
        "colab_type": "code",
        "outputId": "aeacec6c-6015-408e-b1b2-6d73bbf4123e",
        "colab": {
          "base_uri": "https://localhost:8080/",
          "height": 34
        }
      },
      "source": [
        "total_images"
      ],
      "execution_count": 17,
      "outputs": [
        {
          "output_type": "execute_result",
          "data": {
            "text/plain": [
              "31783"
            ]
          },
          "metadata": {
            "tags": []
          },
          "execution_count": 17
        }
      ]
    },
    {
      "cell_type": "code",
      "metadata": {
        "id": "LevLorUbUMLR",
        "colab_type": "code",
        "outputId": "075756aa-2ed4-4654-8e4a-b41698866fd9",
        "colab": {
          "base_uri": "https://localhost:8080/",
          "height": 34
        }
      },
      "source": [
        "31783*5"
      ],
      "execution_count": 18,
      "outputs": [
        {
          "output_type": "execute_result",
          "data": {
            "text/plain": [
              "158915"
            ]
          },
          "metadata": {
            "tags": []
          },
          "execution_count": 18
        }
      ]
    },
    {
      "cell_type": "code",
      "metadata": {
        "id": "uzFJVJaEUp_e",
        "colab_type": "code",
        "outputId": "088d88f3-b370-41be-abd6-06ad87d7169b",
        "colab": {
          "base_uri": "https://localhost:8080/",
          "height": 69
        }
      },
      "source": [
        "captions[0][0].split('| ')"
      ],
      "execution_count": 19,
      "outputs": [
        {
          "output_type": "execute_result",
          "data": {
            "text/plain": [
              "['1000092795.jpg',\n",
              " '0',\n",
              " 'Two young guys with shaggy hair look at their hands while hanging out in the yard .']"
            ]
          },
          "metadata": {
            "tags": []
          },
          "execution_count": 19
        }
      ]
    },
    {
      "cell_type": "code",
      "metadata": {
        "id": "jXMw3IlXaapZ",
        "colab_type": "code",
        "colab": {}
      },
      "source": [
        "parent_dir = 'flickr30k_images/flickr30k_images/'\n",
        "val_dir = 'flickr30k/images/val/'\n",
        "train_dir = 'flickr30k/images/train/'"
      ],
      "execution_count": 0,
      "outputs": []
    },
    {
      "cell_type": "code",
      "metadata": {
        "id": "JwBqHGnrUMA6",
        "colab_type": "code",
        "colab": {}
      },
      "source": [
        "validation_description = {}\n",
        "\n",
        "# validation seperation\n",
        "for val_i in range(0, 783*5, 5):\n",
        "  \n",
        "  img_name = ''\n",
        "  \n",
        "  # each image has five captions\n",
        "  for val_j in range(val_i, val_i + 5, 1):\n",
        "   \n",
        "    # split the description to get image_name and caption\n",
        "    desc = captions[val_j][0].split('| ')\n",
        "    img_name = desc[0] # img_name\n",
        "    caption = desc[-1] # 0th caption\n",
        "    \n",
        "    # enter the empty list initially\n",
        "    if validation_description.get(img_name) is None:\n",
        "      validation_description[img_name] = []\n",
        "      \n",
        "    validation_description[img_name].append(caption)\n",
        "  \n",
        "  \n",
        "  # move the img_name from here to val dir\n",
        "  src = os.path.join(parent_dir, img_name)\n",
        "  des = os.path.join(val_dir, img_name)\n",
        "  shutil.move(src, des)\n",
        "  "
      ],
      "execution_count": 0,
      "outputs": []
    },
    {
      "cell_type": "code",
      "metadata": {
        "id": "kO1tJAjEkBie",
        "colab_type": "code",
        "colab": {}
      },
      "source": [
        "# write val description into val dir\n",
        "with open('flickr30k/captions/val/validation_description.json', 'w') as fp:\n",
        "  json.dump(validation_description, fp)\n"
      ],
      "execution_count": 0,
      "outputs": []
    },
    {
      "cell_type": "code",
      "metadata": {
        "id": "VjNkxYPcj4tG",
        "colab_type": "code",
        "colab": {}
      },
      "source": [
        "training_description = {}\n",
        "\n",
        "# training seperation\n",
        "for train_i in range(783*5, len(captions), 5):\n",
        "  \n",
        "  img_name = ''\n",
        "  \n",
        "  # each image has five captions\n",
        "  for train_j in range(train_i, train_i + 5, 1):\n",
        "   \n",
        "    # split the description to get image_name and caption\n",
        "    desc = captions[train_j][0].split('| ')\n",
        "    img_name = desc[0] # img_name\n",
        "    caption = desc[-1] # 0th caption\n",
        "    \n",
        "    # enter the empty list initially\n",
        "    if training_description.get(img_name) is None:\n",
        "      training_description[img_name] = []\n",
        "      \n",
        "    training_description[img_name].append(caption)\n",
        "  \n",
        "  \n",
        "  # move the img_name from here to val dir\n",
        "  src = os.path.join(parent_dir, img_name)\n",
        "  des = os.path.join(train_dir, img_name)\n",
        "  shutil.move(src, des)"
      ],
      "execution_count": 0,
      "outputs": []
    },
    {
      "cell_type": "code",
      "metadata": {
        "id": "DQC9b3ish7nU",
        "colab_type": "code",
        "colab": {}
      },
      "source": [
        "# write train description into train dir\n",
        "\n",
        "with open('flickr30k/captions/train/training_description.json', 'w') as fp:\n",
        "  json.dump(training_description, fp)"
      ],
      "execution_count": 0,
      "outputs": []
    },
    {
      "cell_type": "code",
      "metadata": {
        "id": "8e_pwrRSbTqY",
        "colab_type": "code",
        "outputId": "0585b99e-47d0-4fda-e940-69dadaee0e3d",
        "colab": {
          "base_uri": "https://localhost:8080/",
          "height": 34
        }
      },
      "source": [
        "len(os.listdir('flickr30k/images/val/'))"
      ],
      "execution_count": 25,
      "outputs": [
        {
          "output_type": "execute_result",
          "data": {
            "text/plain": [
              "783"
            ]
          },
          "metadata": {
            "tags": []
          },
          "execution_count": 25
        }
      ]
    },
    {
      "cell_type": "code",
      "metadata": {
        "id": "jsRq0zqHmgAZ",
        "colab_type": "code",
        "outputId": "502a620c-8a4a-4bfe-b702-2ccfb2a6ec5e",
        "colab": {
          "base_uri": "https://localhost:8080/",
          "height": 34
        }
      },
      "source": [
        "len(os.listdir('flickr30k/images/train/'))"
      ],
      "execution_count": 26,
      "outputs": [
        {
          "output_type": "execute_result",
          "data": {
            "text/plain": [
              "31000"
            ]
          },
          "metadata": {
            "tags": []
          },
          "execution_count": 26
        }
      ]
    },
    {
      "cell_type": "code",
      "metadata": {
        "id": "5XM3XGjTmpCE",
        "colab_type": "code",
        "outputId": "714b2ac5-1281-4295-dc49-c81c44c180e9",
        "colab": {
          "base_uri": "https://localhost:8080/",
          "height": 34
        }
      },
      "source": [
        "len(validation_description)"
      ],
      "execution_count": 27,
      "outputs": [
        {
          "output_type": "execute_result",
          "data": {
            "text/plain": [
              "783"
            ]
          },
          "metadata": {
            "tags": []
          },
          "execution_count": 27
        }
      ]
    },
    {
      "cell_type": "code",
      "metadata": {
        "id": "X2sAldOAmozx",
        "colab_type": "code",
        "outputId": "2921a1e0-be8a-46c4-8f7a-e2fbb4975f40",
        "colab": {
          "base_uri": "https://localhost:8080/",
          "height": 34
        }
      },
      "source": [
        "len(training_description)"
      ],
      "execution_count": 28,
      "outputs": [
        {
          "output_type": "execute_result",
          "data": {
            "text/plain": [
              "31000"
            ]
          },
          "metadata": {
            "tags": []
          },
          "execution_count": 28
        }
      ]
    },
    {
      "cell_type": "code",
      "metadata": {
        "id": "RkCzUvjsmomm",
        "colab_type": "code",
        "colab": {}
      },
      "source": [
        "# !zip -r flickr30k.zip flickr30k"
      ],
      "execution_count": 0,
      "outputs": []
    },
    {
      "cell_type": "code",
      "metadata": {
        "id": "yPu2rBWBCiiL",
        "colab_type": "code",
        "colab": {}
      },
      "source": [
        ""
      ],
      "execution_count": 0,
      "outputs": []
    },
    {
      "cell_type": "code",
      "metadata": {
        "id": "J2ixgPkJCifT",
        "colab_type": "code",
        "colab": {}
      },
      "source": [
        "img = cv2.imread('flickr30k/images/val/1001545525.jpg')\n",
        "img = cv2.cvtColor(img, cv2.COLOR_BGR2RGB)"
      ],
      "execution_count": 0,
      "outputs": []
    },
    {
      "cell_type": "code",
      "metadata": {
        "id": "u8sW6YbFDLTN",
        "colab_type": "code",
        "colab": {
          "base_uri": "https://localhost:8080/",
          "height": 206
        },
        "outputId": "fa670ba1-2bad-4d55-cedb-6e4d7d154b14"
      },
      "source": [
        "plt.imshow(img);"
      ],
      "execution_count": 38,
      "outputs": [
        {
          "output_type": "display_data",
          "data": {
            "image/png": "[encoded data removed]",
            "text/plain": [
              "<Figure size 432x288 with 1 Axes>"
            ]
          },
          "metadata": {
            "tags": []
          }
        }
      ]
    },
    {
      "cell_type": "code",
      "metadata": {
        "id": "OvHevCWKCicG",
        "colab_type": "code",
        "colab": {
          "base_uri": "https://localhost:8080/",
          "height": 104
        },
        "outputId": "c3bf4aa7-50a5-4de0-f15a-dfff4fc6c470"
      },
      "source": [
        "validation_description['1001545525.jpg']"
      ],
      "execution_count": 39,
      "outputs": [
        {
          "output_type": "execute_result",
          "data": {
            "text/plain": [
              "['Two men in Germany jumping over a rail at the same time without shirts .',\n",
              " 'Two youths are jumping over a roadside railing , at night .',\n",
              " 'Boys dancing on poles in the middle of the night .',\n",
              " 'Two men with no shirts jumping over a rail .',\n",
              " 'two guys jumping over a gate together']"
            ]
          },
          "metadata": {
            "tags": []
          },
          "execution_count": 39
        }
      ]
    },
    {
      "cell_type": "markdown",
      "metadata": {
        "id": "Jdfph6pfDxbM",
        "colab_type": "text"
      },
      "source": [
        "### 1.1 Text Data (Caption) Cleaning\n",
        "- No stop word removal\n",
        "- No stemming\n",
        "- lower case = upper case\n",
        "- remove number \n",
        "- remove punctuation"
      ]
    },
    {
      "cell_type": "code",
      "metadata": {
        "id": "QjF9Om2jG-rO",
        "colab_type": "code",
        "colab": {}
      },
      "source": [
        "import re"
      ],
      "execution_count": 0,
      "outputs": []
    },
    {
      "cell_type": "code",
      "metadata": {
        "id": "0vat-bFtMVhm",
        "colab_type": "code",
        "colab": {}
      },
      "source": [
        "with open('flickr30k/captions/train/training_description.json', 'r') as train:\n",
        "  training_description = json.load(train)\n",
        "  \n",
        "with open('flickr30k/captions/val/validation_description.json', 'r') as val:\n",
        "  validation_description = json.load(val)"
      ],
      "execution_count": 0,
      "outputs": []
    },
    {
      "cell_type": "code",
      "metadata": {
        "id": "f1HOHZq9M96n",
        "colab_type": "code",
        "colab": {}
      },
      "source": [
        "t_archive = training_description\n",
        "v_archive = validation_description "
      ],
      "execution_count": 0,
      "outputs": []
    },
    {
      "cell_type": "code",
      "metadata": {
        "id": "9rrjdBlICiZD",
        "colab_type": "code",
        "colab": {}
      },
      "source": [
        "def clean_text(sentence):\n",
        "  \n",
        "  # convert into lower case\n",
        "  sentence = sentence.lower()\n",
        "  \n",
        "  # remove everything except a-z\n",
        "  sentence = re.sub(\"[^a-z]+\", \" \", sentence)\n",
        "  \n",
        "  sentence = sentence.split()\n",
        "  \n",
        "  #remove single char words ie: a\n",
        "  sentence = [word for word in sentence if len(word)>1 ]\n",
        "  \n",
        "  sentence = \" \".join(sentence)\n",
        "  \n",
        "  return sentence\n",
        "  \n",
        "  "
      ],
      "execution_count": 0,
      "outputs": []
    },
    {
      "cell_type": "code",
      "metadata": {
        "id": "FQ7EMPk0JpDT",
        "colab_type": "code",
        "colab": {}
      },
      "source": [
        "# clean validation description\n",
        "for img_name, captions in validation_description.items():\n",
        "  for i in range(len(captions)):\n",
        "    captions[i] = clean_text(captions[i])\n",
        "    "
      ],
      "execution_count": 0,
      "outputs": []
    },
    {
      "cell_type": "code",
      "metadata": {
        "id": "H7XVr38aCiUa",
        "colab_type": "code",
        "colab": {
          "base_uri": "https://localhost:8080/",
          "height": 72
        },
        "outputId": "8fd95c75-491e-4678-e7ba-a00db9e5fe7e"
      },
      "source": [
        "for img_name, captions in validation_description.items():\n",
        "  print(img_name)\n",
        "  print(captions)\n",
        "  break"
      ],
      "execution_count": 63,
      "outputs": [
        {
          "output_type": "stream",
          "text": [
            "1000092795.jpg\n",
            "['two young guys with shaggy hair look at their hands while hanging out in the yard', 'two young white males are outside near many bushes', 'two men in green shirts are standing in yard', 'man in blue shirt standing in garden', 'two friends enjoy time spent together']\n"
          ],
          "name": "stdout"
        }
      ]
    },
    {
      "cell_type": "code",
      "metadata": {
        "id": "6zH3bXS6NRtm",
        "colab_type": "code",
        "colab": {}
      },
      "source": [
        "# cleaning training description\n",
        "for img_name, captions in training_description.items():\n",
        "  for i in range(len(captions)):\n",
        "    captions[i] = clean_text(captions[i])"
      ],
      "execution_count": 0,
      "outputs": []
    },
    {
      "cell_type": "code",
      "metadata": {
        "id": "mc9Pos6-CiRR",
        "colab_type": "code",
        "colab": {
          "base_uri": "https://localhost:8080/",
          "height": 72
        },
        "outputId": "bffa0148-b3e6-4fe0-d760-45afa6bd8cc1"
      },
      "source": [
        "for img_name, captions in training_description.items():\n",
        "  print(img_name)\n",
        "  print(captions)\n",
        "  break"
      ],
      "execution_count": 65,
      "outputs": [
        {
          "output_type": "stream",
          "text": [
            "126227418.jpg\n",
            "['man in plaid shirt with laptop in his lap is sitting next to table with microscope and circuit board on it', 'man in plaid shirt connecting his black laptop to his microscope', 'guy with laptop connected to microscope doing some research', 'guy hooking up his laptop to microscope', 'man working on circuit board']\n"
          ],
          "name": "stdout"
        }
      ]
    },
    {
      "cell_type": "code",
      "metadata": {
        "id": "LU0xX1ybCiKX",
        "colab_type": "code",
        "colab": {}
      },
      "source": [
        "# save the clean text in json file\n",
        "with open('flickr30k/captions/val/clean_val_desc.json', 'w') as fp:\n",
        "  json.dump(validation_description, fp)\n",
        "with open('flickr30k/captions/train/clean_train_desc.json', 'w') as fp:\n",
        "  json.dump(training_description, fp)"
      ],
      "execution_count": 0,
      "outputs": []
    },
    {
      "cell_type": "code",
      "metadata": {
        "id": "wz1DyKb9Ch_w",
        "colab_type": "code",
        "colab": {}
      },
      "source": [
        ""
      ],
      "execution_count": 0,
      "outputs": []
    },
    {
      "cell_type": "code",
      "metadata": {
        "id": "B1H0JtP8Chyq",
        "colab_type": "code",
        "colab": {}
      },
      "source": [
        ""
      ],
      "execution_count": 0,
      "outputs": []
    },
    {
      "cell_type": "code",
      "metadata": {
        "id": "-c9w6UVBChms",
        "colab_type": "code",
        "colab": {}
      },
      "source": [
        ""
      ],
      "execution_count": 0,
      "outputs": []
    },
    {
      "cell_type": "code",
      "metadata": {
        "id": "cIyz2_heChV1",
        "colab_type": "code",
        "colab": {}
      },
      "source": [
        ""
      ],
      "execution_count": 0,
      "outputs": []
    }
  ]
}